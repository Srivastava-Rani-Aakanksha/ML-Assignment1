{
  "metadata": {
    "kernelspec": {
      "language": "python",
      "display_name": "Python 3",
      "name": "python3"
    },
    "language_info": {
      "name": "python",
      "version": "3.7.12",
      "mimetype": "text/x-python",
      "codemirror_mode": {
        "name": "ipython",
        "version": 3
      },
      "pygments_lexer": "ipython3",
      "nbconvert_exporter": "python",
      "file_extension": ".py"
    },
    "colab": {
      "provenance": []
    }
  },
  "nbformat_minor": 0,
  "nbformat": 4,
  "cells": [
    {
      "cell_type": "code",
      "source": [
        "from google.colab import drive\n",
        "drive.mount('/content/drive')"
      ],
      "metadata": {
        "colab": {
          "base_uri": "https://localhost:8080/"
        },
        "id": "gFnZAFtRMK8S",
        "outputId": "7b4dc290-557b-428f-cc94-09ae198518d6"
      },
      "execution_count": null,
      "outputs": [
        {
          "output_type": "stream",
          "name": "stdout",
          "text": [
            "Drive already mounted at /content/drive; to attempt to forcibly remount, call drive.mount(\"/content/drive\", force_remount=True).\n"
          ]
        }
      ]
    },
    {
      "cell_type": "markdown",
      "source": [
        "# # Import the required libraries "
      ],
      "metadata": {
        "id": "D28Suuy-LuGg"
      }
    },
    {
      "cell_type": "code",
      "source": [
        "import pandas as pd\n",
        "import numpy as np\n",
        "import os\n",
        "import math\n",
        "from sklearn.preprocessing import LabelEncoder"
      ],
      "metadata": {
        "execution": {
          "iopub.status.busy": "2022-09-04T15:27:04.766137Z",
          "iopub.execute_input": "2022-09-04T15:27:04.766593Z",
          "iopub.status.idle": "2022-09-04T15:27:04.772884Z",
          "shell.execute_reply.started": "2022-09-04T15:27:04.766556Z",
          "shell.execute_reply": "2022-09-04T15:27:04.771681Z"
        },
        "trusted": true,
        "id": "tkCj_QkJLuGl"
      },
      "execution_count": null,
      "outputs": []
    },
    {
      "cell_type": "markdown",
      "source": [
        "# # Import the dataset"
      ],
      "metadata": {
        "id": "IgfFjDNWLuGo"
      }
    },
    {
      "cell_type": "code",
      "source": [
        "d=pd.read_csv(\"/content/drive/MyDrive/ML/titanic.csv\")\n"
      ],
      "metadata": {
        "execution": {
          "iopub.status.busy": "2022-09-04T15:27:04.785907Z",
          "iopub.execute_input": "2022-09-04T15:27:04.787780Z",
          "iopub.status.idle": "2022-09-04T15:27:04.801700Z",
          "shell.execute_reply.started": "2022-09-04T15:27:04.787725Z",
          "shell.execute_reply": "2022-09-04T15:27:04.800243Z"
        },
        "trusted": true,
        "id": "QD6i0po0LuGp"
      },
      "execution_count": null,
      "outputs": []
    },
    {
      "cell_type": "code",
      "source": [
        "d"
      ],
      "metadata": {
        "execution": {
          "iopub.status.busy": "2022-09-04T15:27:04.824617Z",
          "iopub.execute_input": "2022-09-04T15:27:04.825146Z",
          "iopub.status.idle": "2022-09-04T15:27:04.850639Z",
          "shell.execute_reply.started": "2022-09-04T15:27:04.824993Z",
          "shell.execute_reply": "2022-09-04T15:27:04.849385Z"
        },
        "trusted": true,
        "id": "ShgH1WmoLuGq",
        "colab": {
          "base_uri": "https://localhost:8080/",
          "height": 424
        },
        "outputId": "ab66d837-931b-40d4-f5d9-8c1aa7e8d55e"
      },
      "execution_count": null,
      "outputs": [
        {
          "output_type": "execute_result",
          "data": {
            "text/plain": [
              "     PassengerId  Survived  Pclass  \\\n",
              "0              1         0       3   \n",
              "1              2         1       1   \n",
              "2              3         1       3   \n",
              "3              4         1       1   \n",
              "4              5         0       3   \n",
              "..           ...       ...     ...   \n",
              "886          887         0       2   \n",
              "887          888         1       1   \n",
              "888          889         0       3   \n",
              "889          890         1       1   \n",
              "890          891         0       3   \n",
              "\n",
              "                                                  Name     Sex   Age  SibSp  \\\n",
              "0                              Braund, Mr. Owen Harris    male  22.0      1   \n",
              "1    Cumings, Mrs. John Bradley (Florence Briggs Th...  female  38.0      1   \n",
              "2                               Heikkinen, Miss. Laina  female  26.0      0   \n",
              "3         Futrelle, Mrs. Jacques Heath (Lily May Peel)  female  35.0      1   \n",
              "4                             Allen, Mr. William Henry    male  35.0      0   \n",
              "..                                                 ...     ...   ...    ...   \n",
              "886                              Montvila, Rev. Juozas    male  27.0      0   \n",
              "887                       Graham, Miss. Margaret Edith  female  19.0      0   \n",
              "888           Johnston, Miss. Catherine Helen \"Carrie\"  female   NaN      1   \n",
              "889                              Behr, Mr. Karl Howell    male  26.0      0   \n",
              "890                                Dooley, Mr. Patrick    male  32.0      0   \n",
              "\n",
              "     Parch            Ticket     Fare Cabin Embarked  \n",
              "0        0         A/5 21171   7.2500   NaN        S  \n",
              "1        0          PC 17599  71.2833   C85        C  \n",
              "2        0  STON/O2. 3101282   7.9250   NaN        S  \n",
              "3        0            113803  53.1000  C123        S  \n",
              "4        0            373450   8.0500   NaN        S  \n",
              "..     ...               ...      ...   ...      ...  \n",
              "886      0            211536  13.0000   NaN        S  \n",
              "887      0            112053  30.0000   B42        S  \n",
              "888      2        W./C. 6607  23.4500   NaN        S  \n",
              "889      0            111369  30.0000  C148        C  \n",
              "890      0            370376   7.7500   NaN        Q  \n",
              "\n",
              "[891 rows x 12 columns]"
            ],
            "text/html": [
              "\n",
              "  <div id=\"df-c07f29bc-e521-4ef9-b7a2-45c36196a269\">\n",
              "    <div class=\"colab-df-container\">\n",
              "      <div>\n",
              "<style scoped>\n",
              "    .dataframe tbody tr th:only-of-type {\n",
              "        vertical-align: middle;\n",
              "    }\n",
              "\n",
              "    .dataframe tbody tr th {\n",
              "        vertical-align: top;\n",
              "    }\n",
              "\n",
              "    .dataframe thead th {\n",
              "        text-align: right;\n",
              "    }\n",
              "</style>\n",
              "<table border=\"1\" class=\"dataframe\">\n",
              "  <thead>\n",
              "    <tr style=\"text-align: right;\">\n",
              "      <th></th>\n",
              "      <th>PassengerId</th>\n",
              "      <th>Survived</th>\n",
              "      <th>Pclass</th>\n",
              "      <th>Name</th>\n",
              "      <th>Sex</th>\n",
              "      <th>Age</th>\n",
              "      <th>SibSp</th>\n",
              "      <th>Parch</th>\n",
              "      <th>Ticket</th>\n",
              "      <th>Fare</th>\n",
              "      <th>Cabin</th>\n",
              "      <th>Embarked</th>\n",
              "    </tr>\n",
              "  </thead>\n",
              "  <tbody>\n",
              "    <tr>\n",
              "      <th>0</th>\n",
              "      <td>1</td>\n",
              "      <td>0</td>\n",
              "      <td>3</td>\n",
              "      <td>Braund, Mr. Owen Harris</td>\n",
              "      <td>male</td>\n",
              "      <td>22.0</td>\n",
              "      <td>1</td>\n",
              "      <td>0</td>\n",
              "      <td>A/5 21171</td>\n",
              "      <td>7.2500</td>\n",
              "      <td>NaN</td>\n",
              "      <td>S</td>\n",
              "    </tr>\n",
              "    <tr>\n",
              "      <th>1</th>\n",
              "      <td>2</td>\n",
              "      <td>1</td>\n",
              "      <td>1</td>\n",
              "      <td>Cumings, Mrs. John Bradley (Florence Briggs Th...</td>\n",
              "      <td>female</td>\n",
              "      <td>38.0</td>\n",
              "      <td>1</td>\n",
              "      <td>0</td>\n",
              "      <td>PC 17599</td>\n",
              "      <td>71.2833</td>\n",
              "      <td>C85</td>\n",
              "      <td>C</td>\n",
              "    </tr>\n",
              "    <tr>\n",
              "      <th>2</th>\n",
              "      <td>3</td>\n",
              "      <td>1</td>\n",
              "      <td>3</td>\n",
              "      <td>Heikkinen, Miss. Laina</td>\n",
              "      <td>female</td>\n",
              "      <td>26.0</td>\n",
              "      <td>0</td>\n",
              "      <td>0</td>\n",
              "      <td>STON/O2. 3101282</td>\n",
              "      <td>7.9250</td>\n",
              "      <td>NaN</td>\n",
              "      <td>S</td>\n",
              "    </tr>\n",
              "    <tr>\n",
              "      <th>3</th>\n",
              "      <td>4</td>\n",
              "      <td>1</td>\n",
              "      <td>1</td>\n",
              "      <td>Futrelle, Mrs. Jacques Heath (Lily May Peel)</td>\n",
              "      <td>female</td>\n",
              "      <td>35.0</td>\n",
              "      <td>1</td>\n",
              "      <td>0</td>\n",
              "      <td>113803</td>\n",
              "      <td>53.1000</td>\n",
              "      <td>C123</td>\n",
              "      <td>S</td>\n",
              "    </tr>\n",
              "    <tr>\n",
              "      <th>4</th>\n",
              "      <td>5</td>\n",
              "      <td>0</td>\n",
              "      <td>3</td>\n",
              "      <td>Allen, Mr. William Henry</td>\n",
              "      <td>male</td>\n",
              "      <td>35.0</td>\n",
              "      <td>0</td>\n",
              "      <td>0</td>\n",
              "      <td>373450</td>\n",
              "      <td>8.0500</td>\n",
              "      <td>NaN</td>\n",
              "      <td>S</td>\n",
              "    </tr>\n",
              "    <tr>\n",
              "      <th>...</th>\n",
              "      <td>...</td>\n",
              "      <td>...</td>\n",
              "      <td>...</td>\n",
              "      <td>...</td>\n",
              "      <td>...</td>\n",
              "      <td>...</td>\n",
              "      <td>...</td>\n",
              "      <td>...</td>\n",
              "      <td>...</td>\n",
              "      <td>...</td>\n",
              "      <td>...</td>\n",
              "      <td>...</td>\n",
              "    </tr>\n",
              "    <tr>\n",
              "      <th>886</th>\n",
              "      <td>887</td>\n",
              "      <td>0</td>\n",
              "      <td>2</td>\n",
              "      <td>Montvila, Rev. Juozas</td>\n",
              "      <td>male</td>\n",
              "      <td>27.0</td>\n",
              "      <td>0</td>\n",
              "      <td>0</td>\n",
              "      <td>211536</td>\n",
              "      <td>13.0000</td>\n",
              "      <td>NaN</td>\n",
              "      <td>S</td>\n",
              "    </tr>\n",
              "    <tr>\n",
              "      <th>887</th>\n",
              "      <td>888</td>\n",
              "      <td>1</td>\n",
              "      <td>1</td>\n",
              "      <td>Graham, Miss. Margaret Edith</td>\n",
              "      <td>female</td>\n",
              "      <td>19.0</td>\n",
              "      <td>0</td>\n",
              "      <td>0</td>\n",
              "      <td>112053</td>\n",
              "      <td>30.0000</td>\n",
              "      <td>B42</td>\n",
              "      <td>S</td>\n",
              "    </tr>\n",
              "    <tr>\n",
              "      <th>888</th>\n",
              "      <td>889</td>\n",
              "      <td>0</td>\n",
              "      <td>3</td>\n",
              "      <td>Johnston, Miss. Catherine Helen \"Carrie\"</td>\n",
              "      <td>female</td>\n",
              "      <td>NaN</td>\n",
              "      <td>1</td>\n",
              "      <td>2</td>\n",
              "      <td>W./C. 6607</td>\n",
              "      <td>23.4500</td>\n",
              "      <td>NaN</td>\n",
              "      <td>S</td>\n",
              "    </tr>\n",
              "    <tr>\n",
              "      <th>889</th>\n",
              "      <td>890</td>\n",
              "      <td>1</td>\n",
              "      <td>1</td>\n",
              "      <td>Behr, Mr. Karl Howell</td>\n",
              "      <td>male</td>\n",
              "      <td>26.0</td>\n",
              "      <td>0</td>\n",
              "      <td>0</td>\n",
              "      <td>111369</td>\n",
              "      <td>30.0000</td>\n",
              "      <td>C148</td>\n",
              "      <td>C</td>\n",
              "    </tr>\n",
              "    <tr>\n",
              "      <th>890</th>\n",
              "      <td>891</td>\n",
              "      <td>0</td>\n",
              "      <td>3</td>\n",
              "      <td>Dooley, Mr. Patrick</td>\n",
              "      <td>male</td>\n",
              "      <td>32.0</td>\n",
              "      <td>0</td>\n",
              "      <td>0</td>\n",
              "      <td>370376</td>\n",
              "      <td>7.7500</td>\n",
              "      <td>NaN</td>\n",
              "      <td>Q</td>\n",
              "    </tr>\n",
              "  </tbody>\n",
              "</table>\n",
              "<p>891 rows × 12 columns</p>\n",
              "</div>\n",
              "      <button class=\"colab-df-convert\" onclick=\"convertToInteractive('df-c07f29bc-e521-4ef9-b7a2-45c36196a269')\"\n",
              "              title=\"Convert this dataframe to an interactive table.\"\n",
              "              style=\"display:none;\">\n",
              "        \n",
              "  <svg xmlns=\"http://www.w3.org/2000/svg\" height=\"24px\"viewBox=\"0 0 24 24\"\n",
              "       width=\"24px\">\n",
              "    <path d=\"M0 0h24v24H0V0z\" fill=\"none\"/>\n",
              "    <path d=\"M18.56 5.44l.94 2.06.94-2.06 2.06-.94-2.06-.94-.94-2.06-.94 2.06-2.06.94zm-11 1L8.5 8.5l.94-2.06 2.06-.94-2.06-.94L8.5 2.5l-.94 2.06-2.06.94zm10 10l.94 2.06.94-2.06 2.06-.94-2.06-.94-.94-2.06-.94 2.06-2.06.94z\"/><path d=\"M17.41 7.96l-1.37-1.37c-.4-.4-.92-.59-1.43-.59-.52 0-1.04.2-1.43.59L10.3 9.45l-7.72 7.72c-.78.78-.78 2.05 0 2.83L4 21.41c.39.39.9.59 1.41.59.51 0 1.02-.2 1.41-.59l7.78-7.78 2.81-2.81c.8-.78.8-2.07 0-2.86zM5.41 20L4 18.59l7.72-7.72 1.47 1.35L5.41 20z\"/>\n",
              "  </svg>\n",
              "      </button>\n",
              "      \n",
              "  <style>\n",
              "    .colab-df-container {\n",
              "      display:flex;\n",
              "      flex-wrap:wrap;\n",
              "      gap: 12px;\n",
              "    }\n",
              "\n",
              "    .colab-df-convert {\n",
              "      background-color: #E8F0FE;\n",
              "      border: none;\n",
              "      border-radius: 50%;\n",
              "      cursor: pointer;\n",
              "      display: none;\n",
              "      fill: #1967D2;\n",
              "      height: 32px;\n",
              "      padding: 0 0 0 0;\n",
              "      width: 32px;\n",
              "    }\n",
              "\n",
              "    .colab-df-convert:hover {\n",
              "      background-color: #E2EBFA;\n",
              "      box-shadow: 0px 1px 2px rgba(60, 64, 67, 0.3), 0px 1px 3px 1px rgba(60, 64, 67, 0.15);\n",
              "      fill: #174EA6;\n",
              "    }\n",
              "\n",
              "    [theme=dark] .colab-df-convert {\n",
              "      background-color: #3B4455;\n",
              "      fill: #D2E3FC;\n",
              "    }\n",
              "\n",
              "    [theme=dark] .colab-df-convert:hover {\n",
              "      background-color: #434B5C;\n",
              "      box-shadow: 0px 1px 3px 1px rgba(0, 0, 0, 0.15);\n",
              "      filter: drop-shadow(0px 1px 2px rgba(0, 0, 0, 0.3));\n",
              "      fill: #FFFFFF;\n",
              "    }\n",
              "  </style>\n",
              "\n",
              "      <script>\n",
              "        const buttonEl =\n",
              "          document.querySelector('#df-c07f29bc-e521-4ef9-b7a2-45c36196a269 button.colab-df-convert');\n",
              "        buttonEl.style.display =\n",
              "          google.colab.kernel.accessAllowed ? 'block' : 'none';\n",
              "\n",
              "        async function convertToInteractive(key) {\n",
              "          const element = document.querySelector('#df-c07f29bc-e521-4ef9-b7a2-45c36196a269');\n",
              "          const dataTable =\n",
              "            await google.colab.kernel.invokeFunction('convertToInteractive',\n",
              "                                                     [key], {});\n",
              "          if (!dataTable) return;\n",
              "\n",
              "          const docLinkHtml = 'Like what you see? Visit the ' +\n",
              "            '<a target=\"_blank\" href=https://colab.research.google.com/notebooks/data_table.ipynb>data table notebook</a>'\n",
              "            + ' to learn more about interactive tables.';\n",
              "          element.innerHTML = '';\n",
              "          dataTable['output_type'] = 'display_data';\n",
              "          await google.colab.output.renderOutput(dataTable, element);\n",
              "          const docLink = document.createElement('div');\n",
              "          docLink.innerHTML = docLinkHtml;\n",
              "          element.appendChild(docLink);\n",
              "        }\n",
              "      </script>\n",
              "    </div>\n",
              "  </div>\n",
              "  "
            ]
          },
          "metadata": {},
          "execution_count": 12
        }
      ]
    },
    {
      "cell_type": "markdown",
      "source": [
        "# # High Level Overview of Data "
      ],
      "metadata": {
        "id": "5ydcr8JPLuGs"
      }
    },
    {
      "cell_type": "code",
      "source": [
        "d.shape"
      ],
      "metadata": {
        "execution": {
          "iopub.status.busy": "2022-09-04T15:27:04.852530Z",
          "iopub.execute_input": "2022-09-04T15:27:04.852907Z",
          "iopub.status.idle": "2022-09-04T15:27:04.859689Z",
          "shell.execute_reply.started": "2022-09-04T15:27:04.852874Z",
          "shell.execute_reply": "2022-09-04T15:27:04.858653Z"
        },
        "trusted": true,
        "id": "UxUbuk6RLuGt",
        "colab": {
          "base_uri": "https://localhost:8080/"
        },
        "outputId": "556e724a-52f6-4547-f65e-fba690a8ceb4"
      },
      "execution_count": null,
      "outputs": [
        {
          "output_type": "execute_result",
          "data": {
            "text/plain": [
              "(891, 12)"
            ]
          },
          "metadata": {},
          "execution_count": 13
        }
      ]
    },
    {
      "cell_type": "code",
      "source": [
        "#checking for detailed information of dataset\n",
        "d.info()"
      ],
      "metadata": {
        "execution": {
          "iopub.status.busy": "2022-09-04T15:27:04.872505Z",
          "iopub.execute_input": "2022-09-04T15:27:04.873349Z",
          "iopub.status.idle": "2022-09-04T15:27:04.892496Z",
          "shell.execute_reply.started": "2022-09-04T15:27:04.873243Z",
          "shell.execute_reply": "2022-09-04T15:27:04.888440Z"
        },
        "trusted": true,
        "id": "ThDJ29sLLuGu",
        "colab": {
          "base_uri": "https://localhost:8080/"
        },
        "outputId": "160ff9f0-9a6f-487e-a9ff-a39bc7045d8b"
      },
      "execution_count": null,
      "outputs": [
        {
          "output_type": "stream",
          "name": "stdout",
          "text": [
            "<class 'pandas.core.frame.DataFrame'>\n",
            "RangeIndex: 891 entries, 0 to 890\n",
            "Data columns (total 12 columns):\n",
            " #   Column       Non-Null Count  Dtype  \n",
            "---  ------       --------------  -----  \n",
            " 0   PassengerId  891 non-null    int64  \n",
            " 1   Survived     891 non-null    int64  \n",
            " 2   Pclass       891 non-null    int64  \n",
            " 3   Name         891 non-null    object \n",
            " 4   Sex          891 non-null    object \n",
            " 5   Age          714 non-null    float64\n",
            " 6   SibSp        891 non-null    int64  \n",
            " 7   Parch        891 non-null    int64  \n",
            " 8   Ticket       891 non-null    object \n",
            " 9   Fare         891 non-null    float64\n",
            " 10  Cabin        204 non-null    object \n",
            " 11  Embarked     889 non-null    object \n",
            "dtypes: float64(2), int64(5), object(5)\n",
            "memory usage: 83.7+ KB\n"
          ]
        }
      ]
    },
    {
      "cell_type": "code",
      "source": [
        "d.describe()"
      ],
      "metadata": {
        "execution": {
          "iopub.status.busy": "2022-09-04T15:27:04.905858Z",
          "iopub.execute_input": "2022-09-04T15:27:04.906678Z",
          "iopub.status.idle": "2022-09-04T15:27:04.951742Z",
          "shell.execute_reply.started": "2022-09-04T15:27:04.906632Z",
          "shell.execute_reply": "2022-09-04T15:27:04.949915Z"
        },
        "trusted": true,
        "id": "pcI-tn1aLuGx",
        "colab": {
          "base_uri": "https://localhost:8080/",
          "height": 300
        },
        "outputId": "83ea5a6e-8fb5-408a-b803-14a5da0826c1"
      },
      "execution_count": null,
      "outputs": [
        {
          "output_type": "execute_result",
          "data": {
            "text/plain": [
              "       PassengerId    Survived      Pclass         Age       SibSp  \\\n",
              "count   891.000000  891.000000  891.000000  714.000000  891.000000   \n",
              "mean    446.000000    0.383838    2.308642   29.699118    0.523008   \n",
              "std     257.353842    0.486592    0.836071   14.526497    1.102743   \n",
              "min       1.000000    0.000000    1.000000    0.420000    0.000000   \n",
              "25%     223.500000    0.000000    2.000000   20.125000    0.000000   \n",
              "50%     446.000000    0.000000    3.000000   28.000000    0.000000   \n",
              "75%     668.500000    1.000000    3.000000   38.000000    1.000000   \n",
              "max     891.000000    1.000000    3.000000   80.000000    8.000000   \n",
              "\n",
              "            Parch        Fare  \n",
              "count  891.000000  891.000000  \n",
              "mean     0.381594   32.204208  \n",
              "std      0.806057   49.693429  \n",
              "min      0.000000    0.000000  \n",
              "25%      0.000000    7.910400  \n",
              "50%      0.000000   14.454200  \n",
              "75%      0.000000   31.000000  \n",
              "max      6.000000  512.329200  "
            ],
            "text/html": [
              "\n",
              "  <div id=\"df-9e44b92d-96bd-48fa-9419-8ba72531de70\">\n",
              "    <div class=\"colab-df-container\">\n",
              "      <div>\n",
              "<style scoped>\n",
              "    .dataframe tbody tr th:only-of-type {\n",
              "        vertical-align: middle;\n",
              "    }\n",
              "\n",
              "    .dataframe tbody tr th {\n",
              "        vertical-align: top;\n",
              "    }\n",
              "\n",
              "    .dataframe thead th {\n",
              "        text-align: right;\n",
              "    }\n",
              "</style>\n",
              "<table border=\"1\" class=\"dataframe\">\n",
              "  <thead>\n",
              "    <tr style=\"text-align: right;\">\n",
              "      <th></th>\n",
              "      <th>PassengerId</th>\n",
              "      <th>Survived</th>\n",
              "      <th>Pclass</th>\n",
              "      <th>Age</th>\n",
              "      <th>SibSp</th>\n",
              "      <th>Parch</th>\n",
              "      <th>Fare</th>\n",
              "    </tr>\n",
              "  </thead>\n",
              "  <tbody>\n",
              "    <tr>\n",
              "      <th>count</th>\n",
              "      <td>891.000000</td>\n",
              "      <td>891.000000</td>\n",
              "      <td>891.000000</td>\n",
              "      <td>714.000000</td>\n",
              "      <td>891.000000</td>\n",
              "      <td>891.000000</td>\n",
              "      <td>891.000000</td>\n",
              "    </tr>\n",
              "    <tr>\n",
              "      <th>mean</th>\n",
              "      <td>446.000000</td>\n",
              "      <td>0.383838</td>\n",
              "      <td>2.308642</td>\n",
              "      <td>29.699118</td>\n",
              "      <td>0.523008</td>\n",
              "      <td>0.381594</td>\n",
              "      <td>32.204208</td>\n",
              "    </tr>\n",
              "    <tr>\n",
              "      <th>std</th>\n",
              "      <td>257.353842</td>\n",
              "      <td>0.486592</td>\n",
              "      <td>0.836071</td>\n",
              "      <td>14.526497</td>\n",
              "      <td>1.102743</td>\n",
              "      <td>0.806057</td>\n",
              "      <td>49.693429</td>\n",
              "    </tr>\n",
              "    <tr>\n",
              "      <th>min</th>\n",
              "      <td>1.000000</td>\n",
              "      <td>0.000000</td>\n",
              "      <td>1.000000</td>\n",
              "      <td>0.420000</td>\n",
              "      <td>0.000000</td>\n",
              "      <td>0.000000</td>\n",
              "      <td>0.000000</td>\n",
              "    </tr>\n",
              "    <tr>\n",
              "      <th>25%</th>\n",
              "      <td>223.500000</td>\n",
              "      <td>0.000000</td>\n",
              "      <td>2.000000</td>\n",
              "      <td>20.125000</td>\n",
              "      <td>0.000000</td>\n",
              "      <td>0.000000</td>\n",
              "      <td>7.910400</td>\n",
              "    </tr>\n",
              "    <tr>\n",
              "      <th>50%</th>\n",
              "      <td>446.000000</td>\n",
              "      <td>0.000000</td>\n",
              "      <td>3.000000</td>\n",
              "      <td>28.000000</td>\n",
              "      <td>0.000000</td>\n",
              "      <td>0.000000</td>\n",
              "      <td>14.454200</td>\n",
              "    </tr>\n",
              "    <tr>\n",
              "      <th>75%</th>\n",
              "      <td>668.500000</td>\n",
              "      <td>1.000000</td>\n",
              "      <td>3.000000</td>\n",
              "      <td>38.000000</td>\n",
              "      <td>1.000000</td>\n",
              "      <td>0.000000</td>\n",
              "      <td>31.000000</td>\n",
              "    </tr>\n",
              "    <tr>\n",
              "      <th>max</th>\n",
              "      <td>891.000000</td>\n",
              "      <td>1.000000</td>\n",
              "      <td>3.000000</td>\n",
              "      <td>80.000000</td>\n",
              "      <td>8.000000</td>\n",
              "      <td>6.000000</td>\n",
              "      <td>512.329200</td>\n",
              "    </tr>\n",
              "  </tbody>\n",
              "</table>\n",
              "</div>\n",
              "      <button class=\"colab-df-convert\" onclick=\"convertToInteractive('df-9e44b92d-96bd-48fa-9419-8ba72531de70')\"\n",
              "              title=\"Convert this dataframe to an interactive table.\"\n",
              "              style=\"display:none;\">\n",
              "        \n",
              "  <svg xmlns=\"http://www.w3.org/2000/svg\" height=\"24px\"viewBox=\"0 0 24 24\"\n",
              "       width=\"24px\">\n",
              "    <path d=\"M0 0h24v24H0V0z\" fill=\"none\"/>\n",
              "    <path d=\"M18.56 5.44l.94 2.06.94-2.06 2.06-.94-2.06-.94-.94-2.06-.94 2.06-2.06.94zm-11 1L8.5 8.5l.94-2.06 2.06-.94-2.06-.94L8.5 2.5l-.94 2.06-2.06.94zm10 10l.94 2.06.94-2.06 2.06-.94-2.06-.94-.94-2.06-.94 2.06-2.06.94z\"/><path d=\"M17.41 7.96l-1.37-1.37c-.4-.4-.92-.59-1.43-.59-.52 0-1.04.2-1.43.59L10.3 9.45l-7.72 7.72c-.78.78-.78 2.05 0 2.83L4 21.41c.39.39.9.59 1.41.59.51 0 1.02-.2 1.41-.59l7.78-7.78 2.81-2.81c.8-.78.8-2.07 0-2.86zM5.41 20L4 18.59l7.72-7.72 1.47 1.35L5.41 20z\"/>\n",
              "  </svg>\n",
              "      </button>\n",
              "      \n",
              "  <style>\n",
              "    .colab-df-container {\n",
              "      display:flex;\n",
              "      flex-wrap:wrap;\n",
              "      gap: 12px;\n",
              "    }\n",
              "\n",
              "    .colab-df-convert {\n",
              "      background-color: #E8F0FE;\n",
              "      border: none;\n",
              "      border-radius: 50%;\n",
              "      cursor: pointer;\n",
              "      display: none;\n",
              "      fill: #1967D2;\n",
              "      height: 32px;\n",
              "      padding: 0 0 0 0;\n",
              "      width: 32px;\n",
              "    }\n",
              "\n",
              "    .colab-df-convert:hover {\n",
              "      background-color: #E2EBFA;\n",
              "      box-shadow: 0px 1px 2px rgba(60, 64, 67, 0.3), 0px 1px 3px 1px rgba(60, 64, 67, 0.15);\n",
              "      fill: #174EA6;\n",
              "    }\n",
              "\n",
              "    [theme=dark] .colab-df-convert {\n",
              "      background-color: #3B4455;\n",
              "      fill: #D2E3FC;\n",
              "    }\n",
              "\n",
              "    [theme=dark] .colab-df-convert:hover {\n",
              "      background-color: #434B5C;\n",
              "      box-shadow: 0px 1px 3px 1px rgba(0, 0, 0, 0.15);\n",
              "      filter: drop-shadow(0px 1px 2px rgba(0, 0, 0, 0.3));\n",
              "      fill: #FFFFFF;\n",
              "    }\n",
              "  </style>\n",
              "\n",
              "      <script>\n",
              "        const buttonEl =\n",
              "          document.querySelector('#df-9e44b92d-96bd-48fa-9419-8ba72531de70 button.colab-df-convert');\n",
              "        buttonEl.style.display =\n",
              "          google.colab.kernel.accessAllowed ? 'block' : 'none';\n",
              "\n",
              "        async function convertToInteractive(key) {\n",
              "          const element = document.querySelector('#df-9e44b92d-96bd-48fa-9419-8ba72531de70');\n",
              "          const dataTable =\n",
              "            await google.colab.kernel.invokeFunction('convertToInteractive',\n",
              "                                                     [key], {});\n",
              "          if (!dataTable) return;\n",
              "\n",
              "          const docLinkHtml = 'Like what you see? Visit the ' +\n",
              "            '<a target=\"_blank\" href=https://colab.research.google.com/notebooks/data_table.ipynb>data table notebook</a>'\n",
              "            + ' to learn more about interactive tables.';\n",
              "          element.innerHTML = '';\n",
              "          dataTable['output_type'] = 'display_data';\n",
              "          await google.colab.output.renderOutput(dataTable, element);\n",
              "          const docLink = document.createElement('div');\n",
              "          docLink.innerHTML = docLinkHtml;\n",
              "          element.appendChild(docLink);\n",
              "        }\n",
              "      </script>\n",
              "    </div>\n",
              "  </div>\n",
              "  "
            ]
          },
          "metadata": {},
          "execution_count": 15
        }
      ]
    },
    {
      "cell_type": "code",
      "source": [
        "d.head()"
      ],
      "metadata": {
        "execution": {
          "iopub.status.busy": "2022-09-04T15:27:04.954015Z",
          "iopub.execute_input": "2022-09-04T15:27:04.954767Z",
          "iopub.status.idle": "2022-09-04T15:27:04.978203Z",
          "shell.execute_reply.started": "2022-09-04T15:27:04.954731Z",
          "shell.execute_reply": "2022-09-04T15:27:04.977292Z"
        },
        "trusted": true,
        "id": "jw8JShEALuGy",
        "colab": {
          "base_uri": "https://localhost:8080/",
          "height": 206
        },
        "outputId": "e72609d3-4088-4a36-9df9-2249451defaa"
      },
      "execution_count": null,
      "outputs": [
        {
          "output_type": "execute_result",
          "data": {
            "text/plain": [
              "   PassengerId  Survived  Pclass  \\\n",
              "0            1         0       3   \n",
              "1            2         1       1   \n",
              "2            3         1       3   \n",
              "3            4         1       1   \n",
              "4            5         0       3   \n",
              "\n",
              "                                                Name     Sex   Age  SibSp  \\\n",
              "0                            Braund, Mr. Owen Harris    male  22.0      1   \n",
              "1  Cumings, Mrs. John Bradley (Florence Briggs Th...  female  38.0      1   \n",
              "2                             Heikkinen, Miss. Laina  female  26.0      0   \n",
              "3       Futrelle, Mrs. Jacques Heath (Lily May Peel)  female  35.0      1   \n",
              "4                           Allen, Mr. William Henry    male  35.0      0   \n",
              "\n",
              "   Parch            Ticket     Fare Cabin Embarked  \n",
              "0      0         A/5 21171   7.2500   NaN        S  \n",
              "1      0          PC 17599  71.2833   C85        C  \n",
              "2      0  STON/O2. 3101282   7.9250   NaN        S  \n",
              "3      0            113803  53.1000  C123        S  \n",
              "4      0            373450   8.0500   NaN        S  "
            ],
            "text/html": [
              "\n",
              "  <div id=\"df-db51e72d-7f94-4fe7-959f-2e7aaf30ec65\">\n",
              "    <div class=\"colab-df-container\">\n",
              "      <div>\n",
              "<style scoped>\n",
              "    .dataframe tbody tr th:only-of-type {\n",
              "        vertical-align: middle;\n",
              "    }\n",
              "\n",
              "    .dataframe tbody tr th {\n",
              "        vertical-align: top;\n",
              "    }\n",
              "\n",
              "    .dataframe thead th {\n",
              "        text-align: right;\n",
              "    }\n",
              "</style>\n",
              "<table border=\"1\" class=\"dataframe\">\n",
              "  <thead>\n",
              "    <tr style=\"text-align: right;\">\n",
              "      <th></th>\n",
              "      <th>PassengerId</th>\n",
              "      <th>Survived</th>\n",
              "      <th>Pclass</th>\n",
              "      <th>Name</th>\n",
              "      <th>Sex</th>\n",
              "      <th>Age</th>\n",
              "      <th>SibSp</th>\n",
              "      <th>Parch</th>\n",
              "      <th>Ticket</th>\n",
              "      <th>Fare</th>\n",
              "      <th>Cabin</th>\n",
              "      <th>Embarked</th>\n",
              "    </tr>\n",
              "  </thead>\n",
              "  <tbody>\n",
              "    <tr>\n",
              "      <th>0</th>\n",
              "      <td>1</td>\n",
              "      <td>0</td>\n",
              "      <td>3</td>\n",
              "      <td>Braund, Mr. Owen Harris</td>\n",
              "      <td>male</td>\n",
              "      <td>22.0</td>\n",
              "      <td>1</td>\n",
              "      <td>0</td>\n",
              "      <td>A/5 21171</td>\n",
              "      <td>7.2500</td>\n",
              "      <td>NaN</td>\n",
              "      <td>S</td>\n",
              "    </tr>\n",
              "    <tr>\n",
              "      <th>1</th>\n",
              "      <td>2</td>\n",
              "      <td>1</td>\n",
              "      <td>1</td>\n",
              "      <td>Cumings, Mrs. John Bradley (Florence Briggs Th...</td>\n",
              "      <td>female</td>\n",
              "      <td>38.0</td>\n",
              "      <td>1</td>\n",
              "      <td>0</td>\n",
              "      <td>PC 17599</td>\n",
              "      <td>71.2833</td>\n",
              "      <td>C85</td>\n",
              "      <td>C</td>\n",
              "    </tr>\n",
              "    <tr>\n",
              "      <th>2</th>\n",
              "      <td>3</td>\n",
              "      <td>1</td>\n",
              "      <td>3</td>\n",
              "      <td>Heikkinen, Miss. Laina</td>\n",
              "      <td>female</td>\n",
              "      <td>26.0</td>\n",
              "      <td>0</td>\n",
              "      <td>0</td>\n",
              "      <td>STON/O2. 3101282</td>\n",
              "      <td>7.9250</td>\n",
              "      <td>NaN</td>\n",
              "      <td>S</td>\n",
              "    </tr>\n",
              "    <tr>\n",
              "      <th>3</th>\n",
              "      <td>4</td>\n",
              "      <td>1</td>\n",
              "      <td>1</td>\n",
              "      <td>Futrelle, Mrs. Jacques Heath (Lily May Peel)</td>\n",
              "      <td>female</td>\n",
              "      <td>35.0</td>\n",
              "      <td>1</td>\n",
              "      <td>0</td>\n",
              "      <td>113803</td>\n",
              "      <td>53.1000</td>\n",
              "      <td>C123</td>\n",
              "      <td>S</td>\n",
              "    </tr>\n",
              "    <tr>\n",
              "      <th>4</th>\n",
              "      <td>5</td>\n",
              "      <td>0</td>\n",
              "      <td>3</td>\n",
              "      <td>Allen, Mr. William Henry</td>\n",
              "      <td>male</td>\n",
              "      <td>35.0</td>\n",
              "      <td>0</td>\n",
              "      <td>0</td>\n",
              "      <td>373450</td>\n",
              "      <td>8.0500</td>\n",
              "      <td>NaN</td>\n",
              "      <td>S</td>\n",
              "    </tr>\n",
              "  </tbody>\n",
              "</table>\n",
              "</div>\n",
              "      <button class=\"colab-df-convert\" onclick=\"convertToInteractive('df-db51e72d-7f94-4fe7-959f-2e7aaf30ec65')\"\n",
              "              title=\"Convert this dataframe to an interactive table.\"\n",
              "              style=\"display:none;\">\n",
              "        \n",
              "  <svg xmlns=\"http://www.w3.org/2000/svg\" height=\"24px\"viewBox=\"0 0 24 24\"\n",
              "       width=\"24px\">\n",
              "    <path d=\"M0 0h24v24H0V0z\" fill=\"none\"/>\n",
              "    <path d=\"M18.56 5.44l.94 2.06.94-2.06 2.06-.94-2.06-.94-.94-2.06-.94 2.06-2.06.94zm-11 1L8.5 8.5l.94-2.06 2.06-.94-2.06-.94L8.5 2.5l-.94 2.06-2.06.94zm10 10l.94 2.06.94-2.06 2.06-.94-2.06-.94-.94-2.06-.94 2.06-2.06.94z\"/><path d=\"M17.41 7.96l-1.37-1.37c-.4-.4-.92-.59-1.43-.59-.52 0-1.04.2-1.43.59L10.3 9.45l-7.72 7.72c-.78.78-.78 2.05 0 2.83L4 21.41c.39.39.9.59 1.41.59.51 0 1.02-.2 1.41-.59l7.78-7.78 2.81-2.81c.8-.78.8-2.07 0-2.86zM5.41 20L4 18.59l7.72-7.72 1.47 1.35L5.41 20z\"/>\n",
              "  </svg>\n",
              "      </button>\n",
              "      \n",
              "  <style>\n",
              "    .colab-df-container {\n",
              "      display:flex;\n",
              "      flex-wrap:wrap;\n",
              "      gap: 12px;\n",
              "    }\n",
              "\n",
              "    .colab-df-convert {\n",
              "      background-color: #E8F0FE;\n",
              "      border: none;\n",
              "      border-radius: 50%;\n",
              "      cursor: pointer;\n",
              "      display: none;\n",
              "      fill: #1967D2;\n",
              "      height: 32px;\n",
              "      padding: 0 0 0 0;\n",
              "      width: 32px;\n",
              "    }\n",
              "\n",
              "    .colab-df-convert:hover {\n",
              "      background-color: #E2EBFA;\n",
              "      box-shadow: 0px 1px 2px rgba(60, 64, 67, 0.3), 0px 1px 3px 1px rgba(60, 64, 67, 0.15);\n",
              "      fill: #174EA6;\n",
              "    }\n",
              "\n",
              "    [theme=dark] .colab-df-convert {\n",
              "      background-color: #3B4455;\n",
              "      fill: #D2E3FC;\n",
              "    }\n",
              "\n",
              "    [theme=dark] .colab-df-convert:hover {\n",
              "      background-color: #434B5C;\n",
              "      box-shadow: 0px 1px 3px 1px rgba(0, 0, 0, 0.15);\n",
              "      filter: drop-shadow(0px 1px 2px rgba(0, 0, 0, 0.3));\n",
              "      fill: #FFFFFF;\n",
              "    }\n",
              "  </style>\n",
              "\n",
              "      <script>\n",
              "        const buttonEl =\n",
              "          document.querySelector('#df-db51e72d-7f94-4fe7-959f-2e7aaf30ec65 button.colab-df-convert');\n",
              "        buttonEl.style.display =\n",
              "          google.colab.kernel.accessAllowed ? 'block' : 'none';\n",
              "\n",
              "        async function convertToInteractive(key) {\n",
              "          const element = document.querySelector('#df-db51e72d-7f94-4fe7-959f-2e7aaf30ec65');\n",
              "          const dataTable =\n",
              "            await google.colab.kernel.invokeFunction('convertToInteractive',\n",
              "                                                     [key], {});\n",
              "          if (!dataTable) return;\n",
              "\n",
              "          const docLinkHtml = 'Like what you see? Visit the ' +\n",
              "            '<a target=\"_blank\" href=https://colab.research.google.com/notebooks/data_table.ipynb>data table notebook</a>'\n",
              "            + ' to learn more about interactive tables.';\n",
              "          element.innerHTML = '';\n",
              "          dataTable['output_type'] = 'display_data';\n",
              "          await google.colab.output.renderOutput(dataTable, element);\n",
              "          const docLink = document.createElement('div');\n",
              "          docLink.innerHTML = docLinkHtml;\n",
              "          element.appendChild(docLink);\n",
              "        }\n",
              "      </script>\n",
              "    </div>\n",
              "  </div>\n",
              "  "
            ]
          },
          "metadata": {},
          "execution_count": 16
        }
      ]
    },
    {
      "cell_type": "markdown",
      "source": [
        " # 1. Data Preprocessing "
      ],
      "metadata": {
        "id": "h7boHaltLuGz"
      }
    },
    {
      "cell_type": "code",
      "source": [
        "#checking for NULL values\n",
        "d.isnull().sum()"
      ],
      "metadata": {
        "execution": {
          "iopub.status.busy": "2022-09-04T15:27:04.980086Z",
          "iopub.execute_input": "2022-09-04T15:27:04.981350Z",
          "iopub.status.idle": "2022-09-04T15:27:04.991951Z",
          "shell.execute_reply.started": "2022-09-04T15:27:04.981302Z",
          "shell.execute_reply": "2022-09-04T15:27:04.990750Z"
        },
        "trusted": true,
        "id": "qbEmFpvRLuG0",
        "colab": {
          "base_uri": "https://localhost:8080/"
        },
        "outputId": "68b9c957-bab8-4aa7-c120-6e3097a41d79"
      },
      "execution_count": null,
      "outputs": [
        {
          "output_type": "execute_result",
          "data": {
            "text/plain": [
              "PassengerId      0\n",
              "Survived         0\n",
              "Pclass           0\n",
              "Name             0\n",
              "Sex              0\n",
              "Age            177\n",
              "SibSp            0\n",
              "Parch            0\n",
              "Ticket           0\n",
              "Fare             0\n",
              "Cabin          687\n",
              "Embarked         2\n",
              "dtype: int64"
            ]
          },
          "metadata": {},
          "execution_count": 17
        }
      ]
    },
    {
      "cell_type": "code",
      "source": [
        "d.isna().sum()"
      ],
      "metadata": {
        "execution": {
          "iopub.status.busy": "2022-09-04T15:27:04.994187Z",
          "iopub.execute_input": "2022-09-04T15:27:04.994955Z",
          "iopub.status.idle": "2022-09-04T15:27:05.005075Z",
          "shell.execute_reply.started": "2022-09-04T15:27:04.994918Z",
          "shell.execute_reply": "2022-09-04T15:27:05.003916Z"
        },
        "trusted": true,
        "id": "cvL9bPyuLuG2",
        "colab": {
          "base_uri": "https://localhost:8080/"
        },
        "outputId": "f839c59f-90f0-473d-9115-6a52237aa8ce"
      },
      "execution_count": null,
      "outputs": [
        {
          "output_type": "execute_result",
          "data": {
            "text/plain": [
              "PassengerId      0\n",
              "Survived         0\n",
              "Pclass           0\n",
              "Name             0\n",
              "Sex              0\n",
              "Age            177\n",
              "SibSp            0\n",
              "Parch            0\n",
              "Ticket           0\n",
              "Fare             0\n",
              "Cabin          687\n",
              "Embarked         2\n",
              "dtype: int64"
            ]
          },
          "metadata": {},
          "execution_count": 18
        }
      ]
    },
    {
      "cell_type": "code",
      "source": [
        "#droping the 'Cabin' column as it has lots of empty entries\n",
        "d=d.drop(['Cabin'],axis=1)"
      ],
      "metadata": {
        "execution": {
          "iopub.status.busy": "2022-09-04T15:27:05.009681Z",
          "iopub.execute_input": "2022-09-04T15:27:05.011089Z",
          "iopub.status.idle": "2022-09-04T15:27:05.017655Z",
          "shell.execute_reply.started": "2022-09-04T15:27:05.011045Z",
          "shell.execute_reply": "2022-09-04T15:27:05.016309Z"
        },
        "trusted": true,
        "id": "PeFKjq9tLuG3"
      },
      "execution_count": null,
      "outputs": []
    },
    {
      "cell_type": "code",
      "source": [
        "age_mean=d['Age'].mean()\n",
        "age_mean"
      ],
      "metadata": {
        "execution": {
          "iopub.status.busy": "2022-09-04T15:27:05.019292Z",
          "iopub.execute_input": "2022-09-04T15:27:05.023597Z",
          "iopub.status.idle": "2022-09-04T15:27:05.034635Z",
          "shell.execute_reply.started": "2022-09-04T15:27:05.023539Z",
          "shell.execute_reply": "2022-09-04T15:27:05.033295Z"
        },
        "trusted": true,
        "id": "FBgVbbzELuG4",
        "colab": {
          "base_uri": "https://localhost:8080/"
        },
        "outputId": "f9770f1f-da77-4e87-e9d0-c5710bc0b887"
      },
      "execution_count": null,
      "outputs": [
        {
          "output_type": "execute_result",
          "data": {
            "text/plain": [
              "29.69911764705882"
            ]
          },
          "metadata": {},
          "execution_count": 20
        }
      ]
    },
    {
      "cell_type": "code",
      "source": [
        "#replacing missing values of age column with mean of all values of age column\n",
        "d['Age']=d['Age'].replace(to_replace=np.nan,value=age_mean)\n",
        "d"
      ],
      "metadata": {
        "execution": {
          "iopub.status.busy": "2022-09-04T15:27:05.037318Z",
          "iopub.execute_input": "2022-09-04T15:27:05.037730Z",
          "iopub.status.idle": "2022-09-04T15:27:05.066398Z",
          "shell.execute_reply.started": "2022-09-04T15:27:05.037677Z",
          "shell.execute_reply": "2022-09-04T15:27:05.065388Z"
        },
        "trusted": true,
        "id": "qxnoPWMdLuG5",
        "colab": {
          "base_uri": "https://localhost:8080/",
          "height": 424
        },
        "outputId": "3cb07453-6265-4c7e-d7c6-883935649b4e"
      },
      "execution_count": null,
      "outputs": [
        {
          "output_type": "execute_result",
          "data": {
            "text/plain": [
              "     PassengerId  Survived  Pclass  \\\n",
              "0              1         0       3   \n",
              "1              2         1       1   \n",
              "2              3         1       3   \n",
              "3              4         1       1   \n",
              "4              5         0       3   \n",
              "..           ...       ...     ...   \n",
              "886          887         0       2   \n",
              "887          888         1       1   \n",
              "888          889         0       3   \n",
              "889          890         1       1   \n",
              "890          891         0       3   \n",
              "\n",
              "                                                  Name     Sex        Age  \\\n",
              "0                              Braund, Mr. Owen Harris    male  22.000000   \n",
              "1    Cumings, Mrs. John Bradley (Florence Briggs Th...  female  38.000000   \n",
              "2                               Heikkinen, Miss. Laina  female  26.000000   \n",
              "3         Futrelle, Mrs. Jacques Heath (Lily May Peel)  female  35.000000   \n",
              "4                             Allen, Mr. William Henry    male  35.000000   \n",
              "..                                                 ...     ...        ...   \n",
              "886                              Montvila, Rev. Juozas    male  27.000000   \n",
              "887                       Graham, Miss. Margaret Edith  female  19.000000   \n",
              "888           Johnston, Miss. Catherine Helen \"Carrie\"  female  29.699118   \n",
              "889                              Behr, Mr. Karl Howell    male  26.000000   \n",
              "890                                Dooley, Mr. Patrick    male  32.000000   \n",
              "\n",
              "     SibSp  Parch            Ticket     Fare Embarked  \n",
              "0        1      0         A/5 21171   7.2500        S  \n",
              "1        1      0          PC 17599  71.2833        C  \n",
              "2        0      0  STON/O2. 3101282   7.9250        S  \n",
              "3        1      0            113803  53.1000        S  \n",
              "4        0      0            373450   8.0500        S  \n",
              "..     ...    ...               ...      ...      ...  \n",
              "886      0      0            211536  13.0000        S  \n",
              "887      0      0            112053  30.0000        S  \n",
              "888      1      2        W./C. 6607  23.4500        S  \n",
              "889      0      0            111369  30.0000        C  \n",
              "890      0      0            370376   7.7500        Q  \n",
              "\n",
              "[891 rows x 11 columns]"
            ],
            "text/html": [
              "\n",
              "  <div id=\"df-6fbc0cf7-9ed4-467f-9028-bf54a65b0ca3\">\n",
              "    <div class=\"colab-df-container\">\n",
              "      <div>\n",
              "<style scoped>\n",
              "    .dataframe tbody tr th:only-of-type {\n",
              "        vertical-align: middle;\n",
              "    }\n",
              "\n",
              "    .dataframe tbody tr th {\n",
              "        vertical-align: top;\n",
              "    }\n",
              "\n",
              "    .dataframe thead th {\n",
              "        text-align: right;\n",
              "    }\n",
              "</style>\n",
              "<table border=\"1\" class=\"dataframe\">\n",
              "  <thead>\n",
              "    <tr style=\"text-align: right;\">\n",
              "      <th></th>\n",
              "      <th>PassengerId</th>\n",
              "      <th>Survived</th>\n",
              "      <th>Pclass</th>\n",
              "      <th>Name</th>\n",
              "      <th>Sex</th>\n",
              "      <th>Age</th>\n",
              "      <th>SibSp</th>\n",
              "      <th>Parch</th>\n",
              "      <th>Ticket</th>\n",
              "      <th>Fare</th>\n",
              "      <th>Embarked</th>\n",
              "    </tr>\n",
              "  </thead>\n",
              "  <tbody>\n",
              "    <tr>\n",
              "      <th>0</th>\n",
              "      <td>1</td>\n",
              "      <td>0</td>\n",
              "      <td>3</td>\n",
              "      <td>Braund, Mr. Owen Harris</td>\n",
              "      <td>male</td>\n",
              "      <td>22.000000</td>\n",
              "      <td>1</td>\n",
              "      <td>0</td>\n",
              "      <td>A/5 21171</td>\n",
              "      <td>7.2500</td>\n",
              "      <td>S</td>\n",
              "    </tr>\n",
              "    <tr>\n",
              "      <th>1</th>\n",
              "      <td>2</td>\n",
              "      <td>1</td>\n",
              "      <td>1</td>\n",
              "      <td>Cumings, Mrs. John Bradley (Florence Briggs Th...</td>\n",
              "      <td>female</td>\n",
              "      <td>38.000000</td>\n",
              "      <td>1</td>\n",
              "      <td>0</td>\n",
              "      <td>PC 17599</td>\n",
              "      <td>71.2833</td>\n",
              "      <td>C</td>\n",
              "    </tr>\n",
              "    <tr>\n",
              "      <th>2</th>\n",
              "      <td>3</td>\n",
              "      <td>1</td>\n",
              "      <td>3</td>\n",
              "      <td>Heikkinen, Miss. Laina</td>\n",
              "      <td>female</td>\n",
              "      <td>26.000000</td>\n",
              "      <td>0</td>\n",
              "      <td>0</td>\n",
              "      <td>STON/O2. 3101282</td>\n",
              "      <td>7.9250</td>\n",
              "      <td>S</td>\n",
              "    </tr>\n",
              "    <tr>\n",
              "      <th>3</th>\n",
              "      <td>4</td>\n",
              "      <td>1</td>\n",
              "      <td>1</td>\n",
              "      <td>Futrelle, Mrs. Jacques Heath (Lily May Peel)</td>\n",
              "      <td>female</td>\n",
              "      <td>35.000000</td>\n",
              "      <td>1</td>\n",
              "      <td>0</td>\n",
              "      <td>113803</td>\n",
              "      <td>53.1000</td>\n",
              "      <td>S</td>\n",
              "    </tr>\n",
              "    <tr>\n",
              "      <th>4</th>\n",
              "      <td>5</td>\n",
              "      <td>0</td>\n",
              "      <td>3</td>\n",
              "      <td>Allen, Mr. William Henry</td>\n",
              "      <td>male</td>\n",
              "      <td>35.000000</td>\n",
              "      <td>0</td>\n",
              "      <td>0</td>\n",
              "      <td>373450</td>\n",
              "      <td>8.0500</td>\n",
              "      <td>S</td>\n",
              "    </tr>\n",
              "    <tr>\n",
              "      <th>...</th>\n",
              "      <td>...</td>\n",
              "      <td>...</td>\n",
              "      <td>...</td>\n",
              "      <td>...</td>\n",
              "      <td>...</td>\n",
              "      <td>...</td>\n",
              "      <td>...</td>\n",
              "      <td>...</td>\n",
              "      <td>...</td>\n",
              "      <td>...</td>\n",
              "      <td>...</td>\n",
              "    </tr>\n",
              "    <tr>\n",
              "      <th>886</th>\n",
              "      <td>887</td>\n",
              "      <td>0</td>\n",
              "      <td>2</td>\n",
              "      <td>Montvila, Rev. Juozas</td>\n",
              "      <td>male</td>\n",
              "      <td>27.000000</td>\n",
              "      <td>0</td>\n",
              "      <td>0</td>\n",
              "      <td>211536</td>\n",
              "      <td>13.0000</td>\n",
              "      <td>S</td>\n",
              "    </tr>\n",
              "    <tr>\n",
              "      <th>887</th>\n",
              "      <td>888</td>\n",
              "      <td>1</td>\n",
              "      <td>1</td>\n",
              "      <td>Graham, Miss. Margaret Edith</td>\n",
              "      <td>female</td>\n",
              "      <td>19.000000</td>\n",
              "      <td>0</td>\n",
              "      <td>0</td>\n",
              "      <td>112053</td>\n",
              "      <td>30.0000</td>\n",
              "      <td>S</td>\n",
              "    </tr>\n",
              "    <tr>\n",
              "      <th>888</th>\n",
              "      <td>889</td>\n",
              "      <td>0</td>\n",
              "      <td>3</td>\n",
              "      <td>Johnston, Miss. Catherine Helen \"Carrie\"</td>\n",
              "      <td>female</td>\n",
              "      <td>29.699118</td>\n",
              "      <td>1</td>\n",
              "      <td>2</td>\n",
              "      <td>W./C. 6607</td>\n",
              "      <td>23.4500</td>\n",
              "      <td>S</td>\n",
              "    </tr>\n",
              "    <tr>\n",
              "      <th>889</th>\n",
              "      <td>890</td>\n",
              "      <td>1</td>\n",
              "      <td>1</td>\n",
              "      <td>Behr, Mr. Karl Howell</td>\n",
              "      <td>male</td>\n",
              "      <td>26.000000</td>\n",
              "      <td>0</td>\n",
              "      <td>0</td>\n",
              "      <td>111369</td>\n",
              "      <td>30.0000</td>\n",
              "      <td>C</td>\n",
              "    </tr>\n",
              "    <tr>\n",
              "      <th>890</th>\n",
              "      <td>891</td>\n",
              "      <td>0</td>\n",
              "      <td>3</td>\n",
              "      <td>Dooley, Mr. Patrick</td>\n",
              "      <td>male</td>\n",
              "      <td>32.000000</td>\n",
              "      <td>0</td>\n",
              "      <td>0</td>\n",
              "      <td>370376</td>\n",
              "      <td>7.7500</td>\n",
              "      <td>Q</td>\n",
              "    </tr>\n",
              "  </tbody>\n",
              "</table>\n",
              "<p>891 rows × 11 columns</p>\n",
              "</div>\n",
              "      <button class=\"colab-df-convert\" onclick=\"convertToInteractive('df-6fbc0cf7-9ed4-467f-9028-bf54a65b0ca3')\"\n",
              "              title=\"Convert this dataframe to an interactive table.\"\n",
              "              style=\"display:none;\">\n",
              "        \n",
              "  <svg xmlns=\"http://www.w3.org/2000/svg\" height=\"24px\"viewBox=\"0 0 24 24\"\n",
              "       width=\"24px\">\n",
              "    <path d=\"M0 0h24v24H0V0z\" fill=\"none\"/>\n",
              "    <path d=\"M18.56 5.44l.94 2.06.94-2.06 2.06-.94-2.06-.94-.94-2.06-.94 2.06-2.06.94zm-11 1L8.5 8.5l.94-2.06 2.06-.94-2.06-.94L8.5 2.5l-.94 2.06-2.06.94zm10 10l.94 2.06.94-2.06 2.06-.94-2.06-.94-.94-2.06-.94 2.06-2.06.94z\"/><path d=\"M17.41 7.96l-1.37-1.37c-.4-.4-.92-.59-1.43-.59-.52 0-1.04.2-1.43.59L10.3 9.45l-7.72 7.72c-.78.78-.78 2.05 0 2.83L4 21.41c.39.39.9.59 1.41.59.51 0 1.02-.2 1.41-.59l7.78-7.78 2.81-2.81c.8-.78.8-2.07 0-2.86zM5.41 20L4 18.59l7.72-7.72 1.47 1.35L5.41 20z\"/>\n",
              "  </svg>\n",
              "      </button>\n",
              "      \n",
              "  <style>\n",
              "    .colab-df-container {\n",
              "      display:flex;\n",
              "      flex-wrap:wrap;\n",
              "      gap: 12px;\n",
              "    }\n",
              "\n",
              "    .colab-df-convert {\n",
              "      background-color: #E8F0FE;\n",
              "      border: none;\n",
              "      border-radius: 50%;\n",
              "      cursor: pointer;\n",
              "      display: none;\n",
              "      fill: #1967D2;\n",
              "      height: 32px;\n",
              "      padding: 0 0 0 0;\n",
              "      width: 32px;\n",
              "    }\n",
              "\n",
              "    .colab-df-convert:hover {\n",
              "      background-color: #E2EBFA;\n",
              "      box-shadow: 0px 1px 2px rgba(60, 64, 67, 0.3), 0px 1px 3px 1px rgba(60, 64, 67, 0.15);\n",
              "      fill: #174EA6;\n",
              "    }\n",
              "\n",
              "    [theme=dark] .colab-df-convert {\n",
              "      background-color: #3B4455;\n",
              "      fill: #D2E3FC;\n",
              "    }\n",
              "\n",
              "    [theme=dark] .colab-df-convert:hover {\n",
              "      background-color: #434B5C;\n",
              "      box-shadow: 0px 1px 3px 1px rgba(0, 0, 0, 0.15);\n",
              "      filter: drop-shadow(0px 1px 2px rgba(0, 0, 0, 0.3));\n",
              "      fill: #FFFFFF;\n",
              "    }\n",
              "  </style>\n",
              "\n",
              "      <script>\n",
              "        const buttonEl =\n",
              "          document.querySelector('#df-6fbc0cf7-9ed4-467f-9028-bf54a65b0ca3 button.colab-df-convert');\n",
              "        buttonEl.style.display =\n",
              "          google.colab.kernel.accessAllowed ? 'block' : 'none';\n",
              "\n",
              "        async function convertToInteractive(key) {\n",
              "          const element = document.querySelector('#df-6fbc0cf7-9ed4-467f-9028-bf54a65b0ca3');\n",
              "          const dataTable =\n",
              "            await google.colab.kernel.invokeFunction('convertToInteractive',\n",
              "                                                     [key], {});\n",
              "          if (!dataTable) return;\n",
              "\n",
              "          const docLinkHtml = 'Like what you see? Visit the ' +\n",
              "            '<a target=\"_blank\" href=https://colab.research.google.com/notebooks/data_table.ipynb>data table notebook</a>'\n",
              "            + ' to learn more about interactive tables.';\n",
              "          element.innerHTML = '';\n",
              "          dataTable['output_type'] = 'display_data';\n",
              "          await google.colab.output.renderOutput(dataTable, element);\n",
              "          const docLink = document.createElement('div');\n",
              "          docLink.innerHTML = docLinkHtml;\n",
              "          element.appendChild(docLink);\n",
              "        }\n",
              "      </script>\n",
              "    </div>\n",
              "  </div>\n",
              "  "
            ]
          },
          "metadata": {},
          "execution_count": 21
        }
      ]
    },
    {
      "cell_type": "code",
      "source": [
        "d.isna().sum()"
      ],
      "metadata": {
        "execution": {
          "iopub.status.busy": "2022-09-04T15:27:05.067788Z",
          "iopub.execute_input": "2022-09-04T15:27:05.068751Z",
          "iopub.status.idle": "2022-09-04T15:27:05.078518Z",
          "shell.execute_reply.started": "2022-09-04T15:27:05.068716Z",
          "shell.execute_reply": "2022-09-04T15:27:05.077410Z"
        },
        "trusted": true,
        "id": "Rs19VjUBLuG7",
        "colab": {
          "base_uri": "https://localhost:8080/"
        },
        "outputId": "1cf6bf0c-c522-4718-97fd-0354620408ca"
      },
      "execution_count": null,
      "outputs": [
        {
          "output_type": "execute_result",
          "data": {
            "text/plain": [
              "PassengerId    0\n",
              "Survived       0\n",
              "Pclass         0\n",
              "Name           0\n",
              "Sex            0\n",
              "Age            0\n",
              "SibSp          0\n",
              "Parch          0\n",
              "Ticket         0\n",
              "Fare           0\n",
              "Embarked       2\n",
              "dtype: int64"
            ]
          },
          "metadata": {},
          "execution_count": 22
        }
      ]
    },
    {
      "cell_type": "code",
      "source": [
        "#removing unnecessary columns\n",
        "d=d.drop(['Ticket'],axis=1)\n",
        "d=d.drop(['Name'],axis=1)\n",
        "d=d.drop(['PassengerId'],axis=1)\n",
        "d"
      ],
      "metadata": {
        "execution": {
          "iopub.status.busy": "2022-09-04T15:27:05.079993Z",
          "iopub.execute_input": "2022-09-04T15:27:05.080522Z",
          "iopub.status.idle": "2022-09-04T15:27:05.105081Z",
          "shell.execute_reply.started": "2022-09-04T15:27:05.080489Z",
          "shell.execute_reply": "2022-09-04T15:27:05.103922Z"
        },
        "trusted": true,
        "id": "HlhUgiW-LuG8",
        "colab": {
          "base_uri": "https://localhost:8080/",
          "height": 424
        },
        "outputId": "2527e618-4dec-4cd5-8acf-120513da88c2"
      },
      "execution_count": null,
      "outputs": [
        {
          "output_type": "execute_result",
          "data": {
            "text/plain": [
              "     Survived  Pclass     Sex        Age  SibSp  Parch     Fare Embarked\n",
              "0           0       3    male  22.000000      1      0   7.2500        S\n",
              "1           1       1  female  38.000000      1      0  71.2833        C\n",
              "2           1       3  female  26.000000      0      0   7.9250        S\n",
              "3           1       1  female  35.000000      1      0  53.1000        S\n",
              "4           0       3    male  35.000000      0      0   8.0500        S\n",
              "..        ...     ...     ...        ...    ...    ...      ...      ...\n",
              "886         0       2    male  27.000000      0      0  13.0000        S\n",
              "887         1       1  female  19.000000      0      0  30.0000        S\n",
              "888         0       3  female  29.699118      1      2  23.4500        S\n",
              "889         1       1    male  26.000000      0      0  30.0000        C\n",
              "890         0       3    male  32.000000      0      0   7.7500        Q\n",
              "\n",
              "[891 rows x 8 columns]"
            ],
            "text/html": [
              "\n",
              "  <div id=\"df-ee3c04df-c4f6-47b2-b825-cfc21b10db0f\">\n",
              "    <div class=\"colab-df-container\">\n",
              "      <div>\n",
              "<style scoped>\n",
              "    .dataframe tbody tr th:only-of-type {\n",
              "        vertical-align: middle;\n",
              "    }\n",
              "\n",
              "    .dataframe tbody tr th {\n",
              "        vertical-align: top;\n",
              "    }\n",
              "\n",
              "    .dataframe thead th {\n",
              "        text-align: right;\n",
              "    }\n",
              "</style>\n",
              "<table border=\"1\" class=\"dataframe\">\n",
              "  <thead>\n",
              "    <tr style=\"text-align: right;\">\n",
              "      <th></th>\n",
              "      <th>Survived</th>\n",
              "      <th>Pclass</th>\n",
              "      <th>Sex</th>\n",
              "      <th>Age</th>\n",
              "      <th>SibSp</th>\n",
              "      <th>Parch</th>\n",
              "      <th>Fare</th>\n",
              "      <th>Embarked</th>\n",
              "    </tr>\n",
              "  </thead>\n",
              "  <tbody>\n",
              "    <tr>\n",
              "      <th>0</th>\n",
              "      <td>0</td>\n",
              "      <td>3</td>\n",
              "      <td>male</td>\n",
              "      <td>22.000000</td>\n",
              "      <td>1</td>\n",
              "      <td>0</td>\n",
              "      <td>7.2500</td>\n",
              "      <td>S</td>\n",
              "    </tr>\n",
              "    <tr>\n",
              "      <th>1</th>\n",
              "      <td>1</td>\n",
              "      <td>1</td>\n",
              "      <td>female</td>\n",
              "      <td>38.000000</td>\n",
              "      <td>1</td>\n",
              "      <td>0</td>\n",
              "      <td>71.2833</td>\n",
              "      <td>C</td>\n",
              "    </tr>\n",
              "    <tr>\n",
              "      <th>2</th>\n",
              "      <td>1</td>\n",
              "      <td>3</td>\n",
              "      <td>female</td>\n",
              "      <td>26.000000</td>\n",
              "      <td>0</td>\n",
              "      <td>0</td>\n",
              "      <td>7.9250</td>\n",
              "      <td>S</td>\n",
              "    </tr>\n",
              "    <tr>\n",
              "      <th>3</th>\n",
              "      <td>1</td>\n",
              "      <td>1</td>\n",
              "      <td>female</td>\n",
              "      <td>35.000000</td>\n",
              "      <td>1</td>\n",
              "      <td>0</td>\n",
              "      <td>53.1000</td>\n",
              "      <td>S</td>\n",
              "    </tr>\n",
              "    <tr>\n",
              "      <th>4</th>\n",
              "      <td>0</td>\n",
              "      <td>3</td>\n",
              "      <td>male</td>\n",
              "      <td>35.000000</td>\n",
              "      <td>0</td>\n",
              "      <td>0</td>\n",
              "      <td>8.0500</td>\n",
              "      <td>S</td>\n",
              "    </tr>\n",
              "    <tr>\n",
              "      <th>...</th>\n",
              "      <td>...</td>\n",
              "      <td>...</td>\n",
              "      <td>...</td>\n",
              "      <td>...</td>\n",
              "      <td>...</td>\n",
              "      <td>...</td>\n",
              "      <td>...</td>\n",
              "      <td>...</td>\n",
              "    </tr>\n",
              "    <tr>\n",
              "      <th>886</th>\n",
              "      <td>0</td>\n",
              "      <td>2</td>\n",
              "      <td>male</td>\n",
              "      <td>27.000000</td>\n",
              "      <td>0</td>\n",
              "      <td>0</td>\n",
              "      <td>13.0000</td>\n",
              "      <td>S</td>\n",
              "    </tr>\n",
              "    <tr>\n",
              "      <th>887</th>\n",
              "      <td>1</td>\n",
              "      <td>1</td>\n",
              "      <td>female</td>\n",
              "      <td>19.000000</td>\n",
              "      <td>0</td>\n",
              "      <td>0</td>\n",
              "      <td>30.0000</td>\n",
              "      <td>S</td>\n",
              "    </tr>\n",
              "    <tr>\n",
              "      <th>888</th>\n",
              "      <td>0</td>\n",
              "      <td>3</td>\n",
              "      <td>female</td>\n",
              "      <td>29.699118</td>\n",
              "      <td>1</td>\n",
              "      <td>2</td>\n",
              "      <td>23.4500</td>\n",
              "      <td>S</td>\n",
              "    </tr>\n",
              "    <tr>\n",
              "      <th>889</th>\n",
              "      <td>1</td>\n",
              "      <td>1</td>\n",
              "      <td>male</td>\n",
              "      <td>26.000000</td>\n",
              "      <td>0</td>\n",
              "      <td>0</td>\n",
              "      <td>30.0000</td>\n",
              "      <td>C</td>\n",
              "    </tr>\n",
              "    <tr>\n",
              "      <th>890</th>\n",
              "      <td>0</td>\n",
              "      <td>3</td>\n",
              "      <td>male</td>\n",
              "      <td>32.000000</td>\n",
              "      <td>0</td>\n",
              "      <td>0</td>\n",
              "      <td>7.7500</td>\n",
              "      <td>Q</td>\n",
              "    </tr>\n",
              "  </tbody>\n",
              "</table>\n",
              "<p>891 rows × 8 columns</p>\n",
              "</div>\n",
              "      <button class=\"colab-df-convert\" onclick=\"convertToInteractive('df-ee3c04df-c4f6-47b2-b825-cfc21b10db0f')\"\n",
              "              title=\"Convert this dataframe to an interactive table.\"\n",
              "              style=\"display:none;\">\n",
              "        \n",
              "  <svg xmlns=\"http://www.w3.org/2000/svg\" height=\"24px\"viewBox=\"0 0 24 24\"\n",
              "       width=\"24px\">\n",
              "    <path d=\"M0 0h24v24H0V0z\" fill=\"none\"/>\n",
              "    <path d=\"M18.56 5.44l.94 2.06.94-2.06 2.06-.94-2.06-.94-.94-2.06-.94 2.06-2.06.94zm-11 1L8.5 8.5l.94-2.06 2.06-.94-2.06-.94L8.5 2.5l-.94 2.06-2.06.94zm10 10l.94 2.06.94-2.06 2.06-.94-2.06-.94-.94-2.06-.94 2.06-2.06.94z\"/><path d=\"M17.41 7.96l-1.37-1.37c-.4-.4-.92-.59-1.43-.59-.52 0-1.04.2-1.43.59L10.3 9.45l-7.72 7.72c-.78.78-.78 2.05 0 2.83L4 21.41c.39.39.9.59 1.41.59.51 0 1.02-.2 1.41-.59l7.78-7.78 2.81-2.81c.8-.78.8-2.07 0-2.86zM5.41 20L4 18.59l7.72-7.72 1.47 1.35L5.41 20z\"/>\n",
              "  </svg>\n",
              "      </button>\n",
              "      \n",
              "  <style>\n",
              "    .colab-df-container {\n",
              "      display:flex;\n",
              "      flex-wrap:wrap;\n",
              "      gap: 12px;\n",
              "    }\n",
              "\n",
              "    .colab-df-convert {\n",
              "      background-color: #E8F0FE;\n",
              "      border: none;\n",
              "      border-radius: 50%;\n",
              "      cursor: pointer;\n",
              "      display: none;\n",
              "      fill: #1967D2;\n",
              "      height: 32px;\n",
              "      padding: 0 0 0 0;\n",
              "      width: 32px;\n",
              "    }\n",
              "\n",
              "    .colab-df-convert:hover {\n",
              "      background-color: #E2EBFA;\n",
              "      box-shadow: 0px 1px 2px rgba(60, 64, 67, 0.3), 0px 1px 3px 1px rgba(60, 64, 67, 0.15);\n",
              "      fill: #174EA6;\n",
              "    }\n",
              "\n",
              "    [theme=dark] .colab-df-convert {\n",
              "      background-color: #3B4455;\n",
              "      fill: #D2E3FC;\n",
              "    }\n",
              "\n",
              "    [theme=dark] .colab-df-convert:hover {\n",
              "      background-color: #434B5C;\n",
              "      box-shadow: 0px 1px 3px 1px rgba(0, 0, 0, 0.15);\n",
              "      filter: drop-shadow(0px 1px 2px rgba(0, 0, 0, 0.3));\n",
              "      fill: #FFFFFF;\n",
              "    }\n",
              "  </style>\n",
              "\n",
              "      <script>\n",
              "        const buttonEl =\n",
              "          document.querySelector('#df-ee3c04df-c4f6-47b2-b825-cfc21b10db0f button.colab-df-convert');\n",
              "        buttonEl.style.display =\n",
              "          google.colab.kernel.accessAllowed ? 'block' : 'none';\n",
              "\n",
              "        async function convertToInteractive(key) {\n",
              "          const element = document.querySelector('#df-ee3c04df-c4f6-47b2-b825-cfc21b10db0f');\n",
              "          const dataTable =\n",
              "            await google.colab.kernel.invokeFunction('convertToInteractive',\n",
              "                                                     [key], {});\n",
              "          if (!dataTable) return;\n",
              "\n",
              "          const docLinkHtml = 'Like what you see? Visit the ' +\n",
              "            '<a target=\"_blank\" href=https://colab.research.google.com/notebooks/data_table.ipynb>data table notebook</a>'\n",
              "            + ' to learn more about interactive tables.';\n",
              "          element.innerHTML = '';\n",
              "          dataTable['output_type'] = 'display_data';\n",
              "          await google.colab.output.renderOutput(dataTable, element);\n",
              "          const docLink = document.createElement('div');\n",
              "          docLink.innerHTML = docLinkHtml;\n",
              "          element.appendChild(docLink);\n",
              "        }\n",
              "      </script>\n",
              "    </div>\n",
              "  </div>\n",
              "  "
            ]
          },
          "metadata": {},
          "execution_count": 23
        }
      ]
    },
    {
      "cell_type": "code",
      "source": [
        "d=d.dropna(subset=['Embarked'])\n",
        "d"
      ],
      "metadata": {
        "execution": {
          "iopub.status.busy": "2022-09-04T15:27:05.108038Z",
          "iopub.execute_input": "2022-09-04T15:27:05.108760Z",
          "iopub.status.idle": "2022-09-04T15:27:05.132689Z",
          "shell.execute_reply.started": "2022-09-04T15:27:05.108714Z",
          "shell.execute_reply": "2022-09-04T15:27:05.131539Z"
        },
        "trusted": true,
        "id": "G18unLV5LuG9",
        "colab": {
          "base_uri": "https://localhost:8080/",
          "height": 424
        },
        "outputId": "5017a833-1659-495a-e831-c1fea39e7be6"
      },
      "execution_count": null,
      "outputs": [
        {
          "output_type": "execute_result",
          "data": {
            "text/plain": [
              "     Survived  Pclass     Sex        Age  SibSp  Parch     Fare Embarked\n",
              "0           0       3    male  22.000000      1      0   7.2500        S\n",
              "1           1       1  female  38.000000      1      0  71.2833        C\n",
              "2           1       3  female  26.000000      0      0   7.9250        S\n",
              "3           1       1  female  35.000000      1      0  53.1000        S\n",
              "4           0       3    male  35.000000      0      0   8.0500        S\n",
              "..        ...     ...     ...        ...    ...    ...      ...      ...\n",
              "886         0       2    male  27.000000      0      0  13.0000        S\n",
              "887         1       1  female  19.000000      0      0  30.0000        S\n",
              "888         0       3  female  29.699118      1      2  23.4500        S\n",
              "889         1       1    male  26.000000      0      0  30.0000        C\n",
              "890         0       3    male  32.000000      0      0   7.7500        Q\n",
              "\n",
              "[889 rows x 8 columns]"
            ],
            "text/html": [
              "\n",
              "  <div id=\"df-864ff648-bf2b-4b21-867f-69f2e6c8c5be\">\n",
              "    <div class=\"colab-df-container\">\n",
              "      <div>\n",
              "<style scoped>\n",
              "    .dataframe tbody tr th:only-of-type {\n",
              "        vertical-align: middle;\n",
              "    }\n",
              "\n",
              "    .dataframe tbody tr th {\n",
              "        vertical-align: top;\n",
              "    }\n",
              "\n",
              "    .dataframe thead th {\n",
              "        text-align: right;\n",
              "    }\n",
              "</style>\n",
              "<table border=\"1\" class=\"dataframe\">\n",
              "  <thead>\n",
              "    <tr style=\"text-align: right;\">\n",
              "      <th></th>\n",
              "      <th>Survived</th>\n",
              "      <th>Pclass</th>\n",
              "      <th>Sex</th>\n",
              "      <th>Age</th>\n",
              "      <th>SibSp</th>\n",
              "      <th>Parch</th>\n",
              "      <th>Fare</th>\n",
              "      <th>Embarked</th>\n",
              "    </tr>\n",
              "  </thead>\n",
              "  <tbody>\n",
              "    <tr>\n",
              "      <th>0</th>\n",
              "      <td>0</td>\n",
              "      <td>3</td>\n",
              "      <td>male</td>\n",
              "      <td>22.000000</td>\n",
              "      <td>1</td>\n",
              "      <td>0</td>\n",
              "      <td>7.2500</td>\n",
              "      <td>S</td>\n",
              "    </tr>\n",
              "    <tr>\n",
              "      <th>1</th>\n",
              "      <td>1</td>\n",
              "      <td>1</td>\n",
              "      <td>female</td>\n",
              "      <td>38.000000</td>\n",
              "      <td>1</td>\n",
              "      <td>0</td>\n",
              "      <td>71.2833</td>\n",
              "      <td>C</td>\n",
              "    </tr>\n",
              "    <tr>\n",
              "      <th>2</th>\n",
              "      <td>1</td>\n",
              "      <td>3</td>\n",
              "      <td>female</td>\n",
              "      <td>26.000000</td>\n",
              "      <td>0</td>\n",
              "      <td>0</td>\n",
              "      <td>7.9250</td>\n",
              "      <td>S</td>\n",
              "    </tr>\n",
              "    <tr>\n",
              "      <th>3</th>\n",
              "      <td>1</td>\n",
              "      <td>1</td>\n",
              "      <td>female</td>\n",
              "      <td>35.000000</td>\n",
              "      <td>1</td>\n",
              "      <td>0</td>\n",
              "      <td>53.1000</td>\n",
              "      <td>S</td>\n",
              "    </tr>\n",
              "    <tr>\n",
              "      <th>4</th>\n",
              "      <td>0</td>\n",
              "      <td>3</td>\n",
              "      <td>male</td>\n",
              "      <td>35.000000</td>\n",
              "      <td>0</td>\n",
              "      <td>0</td>\n",
              "      <td>8.0500</td>\n",
              "      <td>S</td>\n",
              "    </tr>\n",
              "    <tr>\n",
              "      <th>...</th>\n",
              "      <td>...</td>\n",
              "      <td>...</td>\n",
              "      <td>...</td>\n",
              "      <td>...</td>\n",
              "      <td>...</td>\n",
              "      <td>...</td>\n",
              "      <td>...</td>\n",
              "      <td>...</td>\n",
              "    </tr>\n",
              "    <tr>\n",
              "      <th>886</th>\n",
              "      <td>0</td>\n",
              "      <td>2</td>\n",
              "      <td>male</td>\n",
              "      <td>27.000000</td>\n",
              "      <td>0</td>\n",
              "      <td>0</td>\n",
              "      <td>13.0000</td>\n",
              "      <td>S</td>\n",
              "    </tr>\n",
              "    <tr>\n",
              "      <th>887</th>\n",
              "      <td>1</td>\n",
              "      <td>1</td>\n",
              "      <td>female</td>\n",
              "      <td>19.000000</td>\n",
              "      <td>0</td>\n",
              "      <td>0</td>\n",
              "      <td>30.0000</td>\n",
              "      <td>S</td>\n",
              "    </tr>\n",
              "    <tr>\n",
              "      <th>888</th>\n",
              "      <td>0</td>\n",
              "      <td>3</td>\n",
              "      <td>female</td>\n",
              "      <td>29.699118</td>\n",
              "      <td>1</td>\n",
              "      <td>2</td>\n",
              "      <td>23.4500</td>\n",
              "      <td>S</td>\n",
              "    </tr>\n",
              "    <tr>\n",
              "      <th>889</th>\n",
              "      <td>1</td>\n",
              "      <td>1</td>\n",
              "      <td>male</td>\n",
              "      <td>26.000000</td>\n",
              "      <td>0</td>\n",
              "      <td>0</td>\n",
              "      <td>30.0000</td>\n",
              "      <td>C</td>\n",
              "    </tr>\n",
              "    <tr>\n",
              "      <th>890</th>\n",
              "      <td>0</td>\n",
              "      <td>3</td>\n",
              "      <td>male</td>\n",
              "      <td>32.000000</td>\n",
              "      <td>0</td>\n",
              "      <td>0</td>\n",
              "      <td>7.7500</td>\n",
              "      <td>Q</td>\n",
              "    </tr>\n",
              "  </tbody>\n",
              "</table>\n",
              "<p>889 rows × 8 columns</p>\n",
              "</div>\n",
              "      <button class=\"colab-df-convert\" onclick=\"convertToInteractive('df-864ff648-bf2b-4b21-867f-69f2e6c8c5be')\"\n",
              "              title=\"Convert this dataframe to an interactive table.\"\n",
              "              style=\"display:none;\">\n",
              "        \n",
              "  <svg xmlns=\"http://www.w3.org/2000/svg\" height=\"24px\"viewBox=\"0 0 24 24\"\n",
              "       width=\"24px\">\n",
              "    <path d=\"M0 0h24v24H0V0z\" fill=\"none\"/>\n",
              "    <path d=\"M18.56 5.44l.94 2.06.94-2.06 2.06-.94-2.06-.94-.94-2.06-.94 2.06-2.06.94zm-11 1L8.5 8.5l.94-2.06 2.06-.94-2.06-.94L8.5 2.5l-.94 2.06-2.06.94zm10 10l.94 2.06.94-2.06 2.06-.94-2.06-.94-.94-2.06-.94 2.06-2.06.94z\"/><path d=\"M17.41 7.96l-1.37-1.37c-.4-.4-.92-.59-1.43-.59-.52 0-1.04.2-1.43.59L10.3 9.45l-7.72 7.72c-.78.78-.78 2.05 0 2.83L4 21.41c.39.39.9.59 1.41.59.51 0 1.02-.2 1.41-.59l7.78-7.78 2.81-2.81c.8-.78.8-2.07 0-2.86zM5.41 20L4 18.59l7.72-7.72 1.47 1.35L5.41 20z\"/>\n",
              "  </svg>\n",
              "      </button>\n",
              "      \n",
              "  <style>\n",
              "    .colab-df-container {\n",
              "      display:flex;\n",
              "      flex-wrap:wrap;\n",
              "      gap: 12px;\n",
              "    }\n",
              "\n",
              "    .colab-df-convert {\n",
              "      background-color: #E8F0FE;\n",
              "      border: none;\n",
              "      border-radius: 50%;\n",
              "      cursor: pointer;\n",
              "      display: none;\n",
              "      fill: #1967D2;\n",
              "      height: 32px;\n",
              "      padding: 0 0 0 0;\n",
              "      width: 32px;\n",
              "    }\n",
              "\n",
              "    .colab-df-convert:hover {\n",
              "      background-color: #E2EBFA;\n",
              "      box-shadow: 0px 1px 2px rgba(60, 64, 67, 0.3), 0px 1px 3px 1px rgba(60, 64, 67, 0.15);\n",
              "      fill: #174EA6;\n",
              "    }\n",
              "\n",
              "    [theme=dark] .colab-df-convert {\n",
              "      background-color: #3B4455;\n",
              "      fill: #D2E3FC;\n",
              "    }\n",
              "\n",
              "    [theme=dark] .colab-df-convert:hover {\n",
              "      background-color: #434B5C;\n",
              "      box-shadow: 0px 1px 3px 1px rgba(0, 0, 0, 0.15);\n",
              "      filter: drop-shadow(0px 1px 2px rgba(0, 0, 0, 0.3));\n",
              "      fill: #FFFFFF;\n",
              "    }\n",
              "  </style>\n",
              "\n",
              "      <script>\n",
              "        const buttonEl =\n",
              "          document.querySelector('#df-864ff648-bf2b-4b21-867f-69f2e6c8c5be button.colab-df-convert');\n",
              "        buttonEl.style.display =\n",
              "          google.colab.kernel.accessAllowed ? 'block' : 'none';\n",
              "\n",
              "        async function convertToInteractive(key) {\n",
              "          const element = document.querySelector('#df-864ff648-bf2b-4b21-867f-69f2e6c8c5be');\n",
              "          const dataTable =\n",
              "            await google.colab.kernel.invokeFunction('convertToInteractive',\n",
              "                                                     [key], {});\n",
              "          if (!dataTable) return;\n",
              "\n",
              "          const docLinkHtml = 'Like what you see? Visit the ' +\n",
              "            '<a target=\"_blank\" href=https://colab.research.google.com/notebooks/data_table.ipynb>data table notebook</a>'\n",
              "            + ' to learn more about interactive tables.';\n",
              "          element.innerHTML = '';\n",
              "          dataTable['output_type'] = 'display_data';\n",
              "          await google.colab.output.renderOutput(dataTable, element);\n",
              "          const docLink = document.createElement('div');\n",
              "          docLink.innerHTML = docLinkHtml;\n",
              "          element.appendChild(docLink);\n",
              "        }\n",
              "      </script>\n",
              "    </div>\n",
              "  </div>\n",
              "  "
            ]
          },
          "metadata": {},
          "execution_count": 24
        }
      ]
    },
    {
      "cell_type": "markdown",
      "source": [
        "# # Label Encoding "
      ],
      "metadata": {
        "id": "a9N30ZT4LuG-"
      }
    },
    {
      "cell_type": "code",
      "source": [
        "d['Sex'].unique()"
      ],
      "metadata": {
        "execution": {
          "iopub.status.busy": "2022-09-04T15:27:05.134191Z",
          "iopub.execute_input": "2022-09-04T15:27:05.134980Z",
          "iopub.status.idle": "2022-09-04T15:27:05.143107Z",
          "shell.execute_reply.started": "2022-09-04T15:27:05.134936Z",
          "shell.execute_reply": "2022-09-04T15:27:05.141918Z"
        },
        "trusted": true,
        "id": "TMT5EIvCLuHA",
        "colab": {
          "base_uri": "https://localhost:8080/"
        },
        "outputId": "3e61042f-49b0-47c6-901f-0b7c12984743"
      },
      "execution_count": null,
      "outputs": [
        {
          "output_type": "execute_result",
          "data": {
            "text/plain": [
              "array([1, 0])"
            ]
          },
          "metadata": {},
          "execution_count": 73
        }
      ]
    },
    {
      "cell_type": "code",
      "source": [
        "d['Embarked'].unique()"
      ],
      "metadata": {
        "execution": {
          "iopub.status.busy": "2022-09-04T15:27:05.145077Z",
          "iopub.execute_input": "2022-09-04T15:27:05.145818Z",
          "iopub.status.idle": "2022-09-04T15:27:05.158408Z",
          "shell.execute_reply.started": "2022-09-04T15:27:05.145775Z",
          "shell.execute_reply": "2022-09-04T15:27:05.157312Z"
        },
        "trusted": true,
        "id": "9n42aE8GLuHB",
        "colab": {
          "base_uri": "https://localhost:8080/"
        },
        "outputId": "27338489-a0e1-4a45-89ee-45d5760d7942"
      },
      "execution_count": null,
      "outputs": [
        {
          "output_type": "execute_result",
          "data": {
            "text/plain": [
              "array([2, 0, 1])"
            ]
          },
          "metadata": {},
          "execution_count": 74
        }
      ]
    },
    {
      "cell_type": "code",
      "source": [
        "\n",
        "le = LabelEncoder()\n",
        " \n",
        "# Using .fit_transform function to fit label\n",
        "# encoder and return encoded label\n",
        "l1 = le.fit_transform(d['Sex'])\n",
        "l2 = le.fit_transform(d['Embarked'])"
      ],
      "metadata": {
        "execution": {
          "iopub.status.busy": "2022-09-04T15:27:05.160475Z",
          "iopub.execute_input": "2022-09-04T15:27:05.161530Z",
          "iopub.status.idle": "2022-09-04T15:27:05.168186Z",
          "shell.execute_reply.started": "2022-09-04T15:27:05.161486Z",
          "shell.execute_reply": "2022-09-04T15:27:05.167282Z"
        },
        "trusted": true,
        "id": "P-8hJBZ4LuHC"
      },
      "execution_count": null,
      "outputs": []
    },
    {
      "cell_type": "code",
      "source": [
        "d['Sex']=l1\n",
        "d['Embarked']=l2\n"
      ],
      "metadata": {
        "execution": {
          "iopub.status.busy": "2022-09-04T15:27:05.169963Z",
          "iopub.execute_input": "2022-09-04T15:27:05.170747Z",
          "iopub.status.idle": "2022-09-04T15:27:05.187015Z",
          "shell.execute_reply.started": "2022-09-04T15:27:05.170703Z",
          "shell.execute_reply": "2022-09-04T15:27:05.186046Z"
        },
        "trusted": true,
        "id": "OIMbv63YLuHD",
        "colab": {
          "base_uri": "https://localhost:8080/"
        },
        "outputId": "788fab5b-1579-4929-ae75-91192467233a"
      },
      "execution_count": null,
      "outputs": [
        {
          "output_type": "stream",
          "name": "stderr",
          "text": [
            "/usr/local/lib/python3.7/dist-packages/ipykernel_launcher.py:1: SettingWithCopyWarning: \n",
            "A value is trying to be set on a copy of a slice from a DataFrame.\n",
            "Try using .loc[row_indexer,col_indexer] = value instead\n",
            "\n",
            "See the caveats in the documentation: https://pandas.pydata.org/pandas-docs/stable/user_guide/indexing.html#returning-a-view-versus-a-copy\n",
            "  \"\"\"Entry point for launching an IPython kernel.\n",
            "/usr/local/lib/python3.7/dist-packages/ipykernel_launcher.py:2: SettingWithCopyWarning: \n",
            "A value is trying to be set on a copy of a slice from a DataFrame.\n",
            "Try using .loc[row_indexer,col_indexer] = value instead\n",
            "\n",
            "See the caveats in the documentation: https://pandas.pydata.org/pandas-docs/stable/user_guide/indexing.html#returning-a-view-versus-a-copy\n",
            "  \n"
          ]
        }
      ]
    },
    {
      "cell_type": "markdown",
      "source": [
        "# #  Removing duplicate rows"
      ],
      "metadata": {
        "id": "zYCg3D-yLuHE"
      }
    },
    {
      "cell_type": "code",
      "source": [
        "#finding number of duplicate rows\n",
        "d.duplicated().sum()"
      ],
      "metadata": {
        "execution": {
          "iopub.status.busy": "2022-09-04T15:27:05.188368Z",
          "iopub.execute_input": "2022-09-04T15:27:05.189372Z",
          "iopub.status.idle": "2022-09-04T15:27:05.201640Z",
          "shell.execute_reply.started": "2022-09-04T15:27:05.189335Z",
          "shell.execute_reply": "2022-09-04T15:27:05.200603Z"
        },
        "trusted": true,
        "id": "KOcccfrSLuHF",
        "colab": {
          "base_uri": "https://localhost:8080/"
        },
        "outputId": "a3864021-b175-4ef6-d297-a7abd73671f2"
      },
      "execution_count": null,
      "outputs": [
        {
          "output_type": "execute_result",
          "data": {
            "text/plain": [
              "111"
            ]
          },
          "metadata": {},
          "execution_count": 29
        }
      ]
    },
    {
      "cell_type": "code",
      "source": [
        "d.drop(axis=\"rows\", labels=d.index[d.duplicated()], inplace=True)"
      ],
      "metadata": {
        "execution": {
          "iopub.status.busy": "2022-09-04T15:27:05.203820Z",
          "iopub.execute_input": "2022-09-04T15:27:05.204182Z",
          "iopub.status.idle": "2022-09-04T15:27:05.216827Z",
          "shell.execute_reply.started": "2022-09-04T15:27:05.204146Z",
          "shell.execute_reply": "2022-09-04T15:27:05.215318Z"
        },
        "trusted": true,
        "id": "OH8gkE8ULuHG",
        "colab": {
          "base_uri": "https://localhost:8080/"
        },
        "outputId": "10814340-63c6-48a5-cf87-12d0ca830cb5"
      },
      "execution_count": null,
      "outputs": [
        {
          "output_type": "stream",
          "name": "stderr",
          "text": [
            "/usr/local/lib/python3.7/dist-packages/pandas/core/frame.py:4913: SettingWithCopyWarning: \n",
            "A value is trying to be set on a copy of a slice from a DataFrame\n",
            "\n",
            "See the caveats in the documentation: https://pandas.pydata.org/pandas-docs/stable/user_guide/indexing.html#returning-a-view-versus-a-copy\n",
            "  errors=errors,\n"
          ]
        }
      ]
    },
    {
      "cell_type": "markdown",
      "source": [
        "# # **Feature Scailing**"
      ],
      "metadata": {
        "id": "1m2Y5ZQrLuHH"
      }
    },
    {
      "cell_type": "code",
      "source": [
        "\n",
        "d['Age']=d['Age'].apply( lambda v:(v-d['Age'].min())/(d['Age'].max()-d['Age'].min(0)))\n",
        "d['Fare']=d['Fare'].apply(lambda v:(v-d['Fare'].min())/(d['Fare'].max()-d['Fare'].min(0)))\n",
        "d"
      ],
      "metadata": {
        "execution": {
          "iopub.status.busy": "2022-09-04T15:27:05.219076Z",
          "iopub.execute_input": "2022-09-04T15:27:05.220429Z",
          "iopub.status.idle": "2022-09-04T15:27:05.524734Z",
          "shell.execute_reply.started": "2022-09-04T15:27:05.220339Z",
          "shell.execute_reply": "2022-09-04T15:27:05.523570Z"
        },
        "trusted": true,
        "id": "qqLqnT8KLuHH",
        "colab": {
          "base_uri": "https://localhost:8080/",
          "height": 632
        },
        "outputId": "83414712-128e-4e51-9f44-06d6dc4bd91d"
      },
      "execution_count": null,
      "outputs": [
        {
          "output_type": "stream",
          "name": "stderr",
          "text": [
            "/usr/local/lib/python3.7/dist-packages/ipykernel_launcher.py:1: SettingWithCopyWarning: \n",
            "A value is trying to be set on a copy of a slice from a DataFrame.\n",
            "Try using .loc[row_indexer,col_indexer] = value instead\n",
            "\n",
            "See the caveats in the documentation: https://pandas.pydata.org/pandas-docs/stable/user_guide/indexing.html#returning-a-view-versus-a-copy\n",
            "  \"\"\"Entry point for launching an IPython kernel.\n",
            "/usr/local/lib/python3.7/dist-packages/ipykernel_launcher.py:2: SettingWithCopyWarning: \n",
            "A value is trying to be set on a copy of a slice from a DataFrame.\n",
            "Try using .loc[row_indexer,col_indexer] = value instead\n",
            "\n",
            "See the caveats in the documentation: https://pandas.pydata.org/pandas-docs/stable/user_guide/indexing.html#returning-a-view-versus-a-copy\n",
            "  \n"
          ]
        },
        {
          "output_type": "execute_result",
          "data": {
            "text/plain": [
              "     Survived  Pclass  Sex       Age  SibSp  Parch      Fare  Embarked\n",
              "0           0       3    1  0.271174      1      0  0.014151         2\n",
              "1           1       1    0  0.472229      1      0  0.139136         0\n",
              "2           1       3    0  0.321438      0      0  0.015469         2\n",
              "3           1       1    0  0.434531      1      0  0.103644         2\n",
              "4           0       3    1  0.434531      0      0  0.015713         2\n",
              "..        ...     ...  ...       ...    ...    ...       ...       ...\n",
              "885         0       3    0  0.484795      0      5  0.056848         1\n",
              "887         1       1    0  0.233476      0      0  0.058556         2\n",
              "888         0       3    0  0.367921      1      2  0.045771         2\n",
              "889         1       1    1  0.321438      0      0  0.058556         0\n",
              "890         0       3    1  0.396833      0      0  0.015127         1\n",
              "\n",
              "[778 rows x 8 columns]"
            ],
            "text/html": [
              "\n",
              "  <div id=\"df-554f4a25-1072-4613-8988-54c5a5bec0fa\">\n",
              "    <div class=\"colab-df-container\">\n",
              "      <div>\n",
              "<style scoped>\n",
              "    .dataframe tbody tr th:only-of-type {\n",
              "        vertical-align: middle;\n",
              "    }\n",
              "\n",
              "    .dataframe tbody tr th {\n",
              "        vertical-align: top;\n",
              "    }\n",
              "\n",
              "    .dataframe thead th {\n",
              "        text-align: right;\n",
              "    }\n",
              "</style>\n",
              "<table border=\"1\" class=\"dataframe\">\n",
              "  <thead>\n",
              "    <tr style=\"text-align: right;\">\n",
              "      <th></th>\n",
              "      <th>Survived</th>\n",
              "      <th>Pclass</th>\n",
              "      <th>Sex</th>\n",
              "      <th>Age</th>\n",
              "      <th>SibSp</th>\n",
              "      <th>Parch</th>\n",
              "      <th>Fare</th>\n",
              "      <th>Embarked</th>\n",
              "    </tr>\n",
              "  </thead>\n",
              "  <tbody>\n",
              "    <tr>\n",
              "      <th>0</th>\n",
              "      <td>0</td>\n",
              "      <td>3</td>\n",
              "      <td>1</td>\n",
              "      <td>0.271174</td>\n",
              "      <td>1</td>\n",
              "      <td>0</td>\n",
              "      <td>0.014151</td>\n",
              "      <td>2</td>\n",
              "    </tr>\n",
              "    <tr>\n",
              "      <th>1</th>\n",
              "      <td>1</td>\n",
              "      <td>1</td>\n",
              "      <td>0</td>\n",
              "      <td>0.472229</td>\n",
              "      <td>1</td>\n",
              "      <td>0</td>\n",
              "      <td>0.139136</td>\n",
              "      <td>0</td>\n",
              "    </tr>\n",
              "    <tr>\n",
              "      <th>2</th>\n",
              "      <td>1</td>\n",
              "      <td>3</td>\n",
              "      <td>0</td>\n",
              "      <td>0.321438</td>\n",
              "      <td>0</td>\n",
              "      <td>0</td>\n",
              "      <td>0.015469</td>\n",
              "      <td>2</td>\n",
              "    </tr>\n",
              "    <tr>\n",
              "      <th>3</th>\n",
              "      <td>1</td>\n",
              "      <td>1</td>\n",
              "      <td>0</td>\n",
              "      <td>0.434531</td>\n",
              "      <td>1</td>\n",
              "      <td>0</td>\n",
              "      <td>0.103644</td>\n",
              "      <td>2</td>\n",
              "    </tr>\n",
              "    <tr>\n",
              "      <th>4</th>\n",
              "      <td>0</td>\n",
              "      <td>3</td>\n",
              "      <td>1</td>\n",
              "      <td>0.434531</td>\n",
              "      <td>0</td>\n",
              "      <td>0</td>\n",
              "      <td>0.015713</td>\n",
              "      <td>2</td>\n",
              "    </tr>\n",
              "    <tr>\n",
              "      <th>...</th>\n",
              "      <td>...</td>\n",
              "      <td>...</td>\n",
              "      <td>...</td>\n",
              "      <td>...</td>\n",
              "      <td>...</td>\n",
              "      <td>...</td>\n",
              "      <td>...</td>\n",
              "      <td>...</td>\n",
              "    </tr>\n",
              "    <tr>\n",
              "      <th>885</th>\n",
              "      <td>0</td>\n",
              "      <td>3</td>\n",
              "      <td>0</td>\n",
              "      <td>0.484795</td>\n",
              "      <td>0</td>\n",
              "      <td>5</td>\n",
              "      <td>0.056848</td>\n",
              "      <td>1</td>\n",
              "    </tr>\n",
              "    <tr>\n",
              "      <th>887</th>\n",
              "      <td>1</td>\n",
              "      <td>1</td>\n",
              "      <td>0</td>\n",
              "      <td>0.233476</td>\n",
              "      <td>0</td>\n",
              "      <td>0</td>\n",
              "      <td>0.058556</td>\n",
              "      <td>2</td>\n",
              "    </tr>\n",
              "    <tr>\n",
              "      <th>888</th>\n",
              "      <td>0</td>\n",
              "      <td>3</td>\n",
              "      <td>0</td>\n",
              "      <td>0.367921</td>\n",
              "      <td>1</td>\n",
              "      <td>2</td>\n",
              "      <td>0.045771</td>\n",
              "      <td>2</td>\n",
              "    </tr>\n",
              "    <tr>\n",
              "      <th>889</th>\n",
              "      <td>1</td>\n",
              "      <td>1</td>\n",
              "      <td>1</td>\n",
              "      <td>0.321438</td>\n",
              "      <td>0</td>\n",
              "      <td>0</td>\n",
              "      <td>0.058556</td>\n",
              "      <td>0</td>\n",
              "    </tr>\n",
              "    <tr>\n",
              "      <th>890</th>\n",
              "      <td>0</td>\n",
              "      <td>3</td>\n",
              "      <td>1</td>\n",
              "      <td>0.396833</td>\n",
              "      <td>0</td>\n",
              "      <td>0</td>\n",
              "      <td>0.015127</td>\n",
              "      <td>1</td>\n",
              "    </tr>\n",
              "  </tbody>\n",
              "</table>\n",
              "<p>778 rows × 8 columns</p>\n",
              "</div>\n",
              "      <button class=\"colab-df-convert\" onclick=\"convertToInteractive('df-554f4a25-1072-4613-8988-54c5a5bec0fa')\"\n",
              "              title=\"Convert this dataframe to an interactive table.\"\n",
              "              style=\"display:none;\">\n",
              "        \n",
              "  <svg xmlns=\"http://www.w3.org/2000/svg\" height=\"24px\"viewBox=\"0 0 24 24\"\n",
              "       width=\"24px\">\n",
              "    <path d=\"M0 0h24v24H0V0z\" fill=\"none\"/>\n",
              "    <path d=\"M18.56 5.44l.94 2.06.94-2.06 2.06-.94-2.06-.94-.94-2.06-.94 2.06-2.06.94zm-11 1L8.5 8.5l.94-2.06 2.06-.94-2.06-.94L8.5 2.5l-.94 2.06-2.06.94zm10 10l.94 2.06.94-2.06 2.06-.94-2.06-.94-.94-2.06-.94 2.06-2.06.94z\"/><path d=\"M17.41 7.96l-1.37-1.37c-.4-.4-.92-.59-1.43-.59-.52 0-1.04.2-1.43.59L10.3 9.45l-7.72 7.72c-.78.78-.78 2.05 0 2.83L4 21.41c.39.39.9.59 1.41.59.51 0 1.02-.2 1.41-.59l7.78-7.78 2.81-2.81c.8-.78.8-2.07 0-2.86zM5.41 20L4 18.59l7.72-7.72 1.47 1.35L5.41 20z\"/>\n",
              "  </svg>\n",
              "      </button>\n",
              "      \n",
              "  <style>\n",
              "    .colab-df-container {\n",
              "      display:flex;\n",
              "      flex-wrap:wrap;\n",
              "      gap: 12px;\n",
              "    }\n",
              "\n",
              "    .colab-df-convert {\n",
              "      background-color: #E8F0FE;\n",
              "      border: none;\n",
              "      border-radius: 50%;\n",
              "      cursor: pointer;\n",
              "      display: none;\n",
              "      fill: #1967D2;\n",
              "      height: 32px;\n",
              "      padding: 0 0 0 0;\n",
              "      width: 32px;\n",
              "    }\n",
              "\n",
              "    .colab-df-convert:hover {\n",
              "      background-color: #E2EBFA;\n",
              "      box-shadow: 0px 1px 2px rgba(60, 64, 67, 0.3), 0px 1px 3px 1px rgba(60, 64, 67, 0.15);\n",
              "      fill: #174EA6;\n",
              "    }\n",
              "\n",
              "    [theme=dark] .colab-df-convert {\n",
              "      background-color: #3B4455;\n",
              "      fill: #D2E3FC;\n",
              "    }\n",
              "\n",
              "    [theme=dark] .colab-df-convert:hover {\n",
              "      background-color: #434B5C;\n",
              "      box-shadow: 0px 1px 3px 1px rgba(0, 0, 0, 0.15);\n",
              "      filter: drop-shadow(0px 1px 2px rgba(0, 0, 0, 0.3));\n",
              "      fill: #FFFFFF;\n",
              "    }\n",
              "  </style>\n",
              "\n",
              "      <script>\n",
              "        const buttonEl =\n",
              "          document.querySelector('#df-554f4a25-1072-4613-8988-54c5a5bec0fa button.colab-df-convert');\n",
              "        buttonEl.style.display =\n",
              "          google.colab.kernel.accessAllowed ? 'block' : 'none';\n",
              "\n",
              "        async function convertToInteractive(key) {\n",
              "          const element = document.querySelector('#df-554f4a25-1072-4613-8988-54c5a5bec0fa');\n",
              "          const dataTable =\n",
              "            await google.colab.kernel.invokeFunction('convertToInteractive',\n",
              "                                                     [key], {});\n",
              "          if (!dataTable) return;\n",
              "\n",
              "          const docLinkHtml = 'Like what you see? Visit the ' +\n",
              "            '<a target=\"_blank\" href=https://colab.research.google.com/notebooks/data_table.ipynb>data table notebook</a>'\n",
              "            + ' to learn more about interactive tables.';\n",
              "          element.innerHTML = '';\n",
              "          dataTable['output_type'] = 'display_data';\n",
              "          await google.colab.output.renderOutput(dataTable, element);\n",
              "          const docLink = document.createElement('div');\n",
              "          docLink.innerHTML = docLinkHtml;\n",
              "          element.appendChild(docLink);\n",
              "        }\n",
              "      </script>\n",
              "    </div>\n",
              "  </div>\n",
              "  "
            ]
          },
          "metadata": {},
          "execution_count": 31
        }
      ]
    },
    {
      "cell_type": "code",
      "source": [
        "d.corr()"
      ],
      "metadata": {
        "execution": {
          "iopub.status.busy": "2022-09-04T15:27:05.527327Z",
          "iopub.execute_input": "2022-09-04T15:27:05.527789Z",
          "iopub.status.idle": "2022-09-04T15:27:05.545845Z",
          "shell.execute_reply.started": "2022-09-04T15:27:05.527750Z",
          "shell.execute_reply": "2022-09-04T15:27:05.544414Z"
        },
        "trusted": true,
        "id": "8uzk7z-eLuHI",
        "colab": {
          "base_uri": "https://localhost:8080/",
          "height": 300
        },
        "outputId": "385f2d6e-5c3f-4a2a-a31e-0941271decc2"
      },
      "execution_count": null,
      "outputs": [
        {
          "output_type": "execute_result",
          "data": {
            "text/plain": [
              "          Survived    Pclass       Sex       Age     SibSp     Parch  \\\n",
              "Survived  1.000000 -0.333291 -0.511686 -0.084185 -0.036044  0.071352   \n",
              "Pclass   -0.333291  1.000000  0.113210 -0.335180  0.085055  0.037218   \n",
              "Sex      -0.511686  0.113210  1.000000  0.099034 -0.099980 -0.239210   \n",
              "Age      -0.084185 -0.335180  0.099034  1.000000 -0.279150 -0.185872   \n",
              "SibSp    -0.036044  0.085055 -0.099980 -0.279150  1.000000  0.380174   \n",
              "Parch     0.071352  0.037218 -0.239210 -0.185872  0.380174  1.000000   \n",
              "Fare      0.244700 -0.551236 -0.166952  0.087692  0.135490  0.192411   \n",
              "Embarked -0.157858  0.181243  0.101821 -0.034728  0.064530  0.044173   \n",
              "\n",
              "              Fare  Embarked  \n",
              "Survived  0.244700 -0.157858  \n",
              "Pclass   -0.551236  0.181243  \n",
              "Sex      -0.166952  0.101821  \n",
              "Age       0.087692 -0.034728  \n",
              "SibSp     0.135490  0.064530  \n",
              "Parch     0.192411  0.044173  \n",
              "Fare      1.000000 -0.239262  \n",
              "Embarked -0.239262  1.000000  "
            ],
            "text/html": [
              "\n",
              "  <div id=\"df-2178f57e-0dad-4f8a-aa40-270688723d88\">\n",
              "    <div class=\"colab-df-container\">\n",
              "      <div>\n",
              "<style scoped>\n",
              "    .dataframe tbody tr th:only-of-type {\n",
              "        vertical-align: middle;\n",
              "    }\n",
              "\n",
              "    .dataframe tbody tr th {\n",
              "        vertical-align: top;\n",
              "    }\n",
              "\n",
              "    .dataframe thead th {\n",
              "        text-align: right;\n",
              "    }\n",
              "</style>\n",
              "<table border=\"1\" class=\"dataframe\">\n",
              "  <thead>\n",
              "    <tr style=\"text-align: right;\">\n",
              "      <th></th>\n",
              "      <th>Survived</th>\n",
              "      <th>Pclass</th>\n",
              "      <th>Sex</th>\n",
              "      <th>Age</th>\n",
              "      <th>SibSp</th>\n",
              "      <th>Parch</th>\n",
              "      <th>Fare</th>\n",
              "      <th>Embarked</th>\n",
              "    </tr>\n",
              "  </thead>\n",
              "  <tbody>\n",
              "    <tr>\n",
              "      <th>Survived</th>\n",
              "      <td>1.000000</td>\n",
              "      <td>-0.333291</td>\n",
              "      <td>-0.511686</td>\n",
              "      <td>-0.084185</td>\n",
              "      <td>-0.036044</td>\n",
              "      <td>0.071352</td>\n",
              "      <td>0.244700</td>\n",
              "      <td>-0.157858</td>\n",
              "    </tr>\n",
              "    <tr>\n",
              "      <th>Pclass</th>\n",
              "      <td>-0.333291</td>\n",
              "      <td>1.000000</td>\n",
              "      <td>0.113210</td>\n",
              "      <td>-0.335180</td>\n",
              "      <td>0.085055</td>\n",
              "      <td>0.037218</td>\n",
              "      <td>-0.551236</td>\n",
              "      <td>0.181243</td>\n",
              "    </tr>\n",
              "    <tr>\n",
              "      <th>Sex</th>\n",
              "      <td>-0.511686</td>\n",
              "      <td>0.113210</td>\n",
              "      <td>1.000000</td>\n",
              "      <td>0.099034</td>\n",
              "      <td>-0.099980</td>\n",
              "      <td>-0.239210</td>\n",
              "      <td>-0.166952</td>\n",
              "      <td>0.101821</td>\n",
              "    </tr>\n",
              "    <tr>\n",
              "      <th>Age</th>\n",
              "      <td>-0.084185</td>\n",
              "      <td>-0.335180</td>\n",
              "      <td>0.099034</td>\n",
              "      <td>1.000000</td>\n",
              "      <td>-0.279150</td>\n",
              "      <td>-0.185872</td>\n",
              "      <td>0.087692</td>\n",
              "      <td>-0.034728</td>\n",
              "    </tr>\n",
              "    <tr>\n",
              "      <th>SibSp</th>\n",
              "      <td>-0.036044</td>\n",
              "      <td>0.085055</td>\n",
              "      <td>-0.099980</td>\n",
              "      <td>-0.279150</td>\n",
              "      <td>1.000000</td>\n",
              "      <td>0.380174</td>\n",
              "      <td>0.135490</td>\n",
              "      <td>0.064530</td>\n",
              "    </tr>\n",
              "    <tr>\n",
              "      <th>Parch</th>\n",
              "      <td>0.071352</td>\n",
              "      <td>0.037218</td>\n",
              "      <td>-0.239210</td>\n",
              "      <td>-0.185872</td>\n",
              "      <td>0.380174</td>\n",
              "      <td>1.000000</td>\n",
              "      <td>0.192411</td>\n",
              "      <td>0.044173</td>\n",
              "    </tr>\n",
              "    <tr>\n",
              "      <th>Fare</th>\n",
              "      <td>0.244700</td>\n",
              "      <td>-0.551236</td>\n",
              "      <td>-0.166952</td>\n",
              "      <td>0.087692</td>\n",
              "      <td>0.135490</td>\n",
              "      <td>0.192411</td>\n",
              "      <td>1.000000</td>\n",
              "      <td>-0.239262</td>\n",
              "    </tr>\n",
              "    <tr>\n",
              "      <th>Embarked</th>\n",
              "      <td>-0.157858</td>\n",
              "      <td>0.181243</td>\n",
              "      <td>0.101821</td>\n",
              "      <td>-0.034728</td>\n",
              "      <td>0.064530</td>\n",
              "      <td>0.044173</td>\n",
              "      <td>-0.239262</td>\n",
              "      <td>1.000000</td>\n",
              "    </tr>\n",
              "  </tbody>\n",
              "</table>\n",
              "</div>\n",
              "      <button class=\"colab-df-convert\" onclick=\"convertToInteractive('df-2178f57e-0dad-4f8a-aa40-270688723d88')\"\n",
              "              title=\"Convert this dataframe to an interactive table.\"\n",
              "              style=\"display:none;\">\n",
              "        \n",
              "  <svg xmlns=\"http://www.w3.org/2000/svg\" height=\"24px\"viewBox=\"0 0 24 24\"\n",
              "       width=\"24px\">\n",
              "    <path d=\"M0 0h24v24H0V0z\" fill=\"none\"/>\n",
              "    <path d=\"M18.56 5.44l.94 2.06.94-2.06 2.06-.94-2.06-.94-.94-2.06-.94 2.06-2.06.94zm-11 1L8.5 8.5l.94-2.06 2.06-.94-2.06-.94L8.5 2.5l-.94 2.06-2.06.94zm10 10l.94 2.06.94-2.06 2.06-.94-2.06-.94-.94-2.06-.94 2.06-2.06.94z\"/><path d=\"M17.41 7.96l-1.37-1.37c-.4-.4-.92-.59-1.43-.59-.52 0-1.04.2-1.43.59L10.3 9.45l-7.72 7.72c-.78.78-.78 2.05 0 2.83L4 21.41c.39.39.9.59 1.41.59.51 0 1.02-.2 1.41-.59l7.78-7.78 2.81-2.81c.8-.78.8-2.07 0-2.86zM5.41 20L4 18.59l7.72-7.72 1.47 1.35L5.41 20z\"/>\n",
              "  </svg>\n",
              "      </button>\n",
              "      \n",
              "  <style>\n",
              "    .colab-df-container {\n",
              "      display:flex;\n",
              "      flex-wrap:wrap;\n",
              "      gap: 12px;\n",
              "    }\n",
              "\n",
              "    .colab-df-convert {\n",
              "      background-color: #E8F0FE;\n",
              "      border: none;\n",
              "      border-radius: 50%;\n",
              "      cursor: pointer;\n",
              "      display: none;\n",
              "      fill: #1967D2;\n",
              "      height: 32px;\n",
              "      padding: 0 0 0 0;\n",
              "      width: 32px;\n",
              "    }\n",
              "\n",
              "    .colab-df-convert:hover {\n",
              "      background-color: #E2EBFA;\n",
              "      box-shadow: 0px 1px 2px rgba(60, 64, 67, 0.3), 0px 1px 3px 1px rgba(60, 64, 67, 0.15);\n",
              "      fill: #174EA6;\n",
              "    }\n",
              "\n",
              "    [theme=dark] .colab-df-convert {\n",
              "      background-color: #3B4455;\n",
              "      fill: #D2E3FC;\n",
              "    }\n",
              "\n",
              "    [theme=dark] .colab-df-convert:hover {\n",
              "      background-color: #434B5C;\n",
              "      box-shadow: 0px 1px 3px 1px rgba(0, 0, 0, 0.15);\n",
              "      filter: drop-shadow(0px 1px 2px rgba(0, 0, 0, 0.3));\n",
              "      fill: #FFFFFF;\n",
              "    }\n",
              "  </style>\n",
              "\n",
              "      <script>\n",
              "        const buttonEl =\n",
              "          document.querySelector('#df-2178f57e-0dad-4f8a-aa40-270688723d88 button.colab-df-convert');\n",
              "        buttonEl.style.display =\n",
              "          google.colab.kernel.accessAllowed ? 'block' : 'none';\n",
              "\n",
              "        async function convertToInteractive(key) {\n",
              "          const element = document.querySelector('#df-2178f57e-0dad-4f8a-aa40-270688723d88');\n",
              "          const dataTable =\n",
              "            await google.colab.kernel.invokeFunction('convertToInteractive',\n",
              "                                                     [key], {});\n",
              "          if (!dataTable) return;\n",
              "\n",
              "          const docLinkHtml = 'Like what you see? Visit the ' +\n",
              "            '<a target=\"_blank\" href=https://colab.research.google.com/notebooks/data_table.ipynb>data table notebook</a>'\n",
              "            + ' to learn more about interactive tables.';\n",
              "          element.innerHTML = '';\n",
              "          dataTable['output_type'] = 'display_data';\n",
              "          await google.colab.output.renderOutput(dataTable, element);\n",
              "          const docLink = document.createElement('div');\n",
              "          docLink.innerHTML = docLinkHtml;\n",
              "          element.appendChild(docLink);\n",
              "        }\n",
              "      </script>\n",
              "    </div>\n",
              "  </div>\n",
              "  "
            ]
          },
          "metadata": {},
          "execution_count": 32
        }
      ]
    },
    {
      "cell_type": "code",
      "source": [
        "d.corr()['Survived'].sort_values(ascending=False)"
      ],
      "metadata": {
        "execution": {
          "iopub.status.busy": "2022-09-04T15:27:05.547182Z",
          "iopub.execute_input": "2022-09-04T15:27:05.547535Z",
          "iopub.status.idle": "2022-09-04T15:27:05.561172Z",
          "shell.execute_reply.started": "2022-09-04T15:27:05.547499Z",
          "shell.execute_reply": "2022-09-04T15:27:05.559831Z"
        },
        "trusted": true,
        "id": "Y_MZ8u7JLuHJ",
        "colab": {
          "base_uri": "https://localhost:8080/"
        },
        "outputId": "99bb1be1-98a0-42b2-a752-f2dcba412568"
      },
      "execution_count": null,
      "outputs": [
        {
          "output_type": "execute_result",
          "data": {
            "text/plain": [
              "Survived    1.000000\n",
              "Fare        0.244700\n",
              "Parch       0.071352\n",
              "SibSp      -0.036044\n",
              "Age        -0.084185\n",
              "Embarked   -0.157858\n",
              "Pclass     -0.333291\n",
              "Sex        -0.511686\n",
              "Name: Survived, dtype: float64"
            ]
          },
          "metadata": {},
          "execution_count": 33
        }
      ]
    },
    {
      "cell_type": "code",
      "source": [
        "d.cov()"
      ],
      "metadata": {
        "execution": {
          "iopub.status.busy": "2022-09-04T15:27:05.562152Z",
          "iopub.execute_input": "2022-09-04T15:27:05.562681Z",
          "iopub.status.idle": "2022-09-04T15:27:05.583122Z",
          "shell.execute_reply.started": "2022-09-04T15:27:05.562647Z",
          "shell.execute_reply": "2022-09-04T15:27:05.581768Z"
        },
        "trusted": true,
        "id": "rYciij6iLuHK",
        "colab": {
          "base_uri": "https://localhost:8080/",
          "height": 300
        },
        "outputId": "8433158d-1a5f-462a-85b9-3f7613b3f5fc"
      },
      "execution_count": null,
      "outputs": [
        {
          "output_type": "execute_result",
          "data": {
            "text/plain": [
              "          Survived    Pclass       Sex       Age     SibSp     Parch  \\\n",
              "Survived  0.242446 -0.140018 -0.121904 -0.007123 -0.017552  0.029489   \n",
              "Pclass   -0.140018  0.727960  0.046736 -0.049141  0.071768  0.026653   \n",
              "Sex      -0.121904  0.046736  0.234109  0.008234 -0.047841 -0.097147   \n",
              "Age      -0.007123 -0.049141  0.008234  0.029527 -0.047438 -0.026808   \n",
              "SibSp    -0.017552  0.071768 -0.047841 -0.047438  0.978035  0.315573   \n",
              "Parch     0.029489  0.026653 -0.097147 -0.026808  0.315573  0.704503   \n",
              "Fare      0.012295 -0.047993 -0.008243  0.001538  0.013673  0.016480   \n",
              "Embarked -0.062597  0.124535  0.039675 -0.004806  0.051394  0.029859   \n",
              "\n",
              "              Fare  Embarked  \n",
              "Survived  0.012295 -0.062597  \n",
              "Pclass   -0.047993  0.124535  \n",
              "Sex      -0.008243  0.039675  \n",
              "Age       0.001538 -0.004806  \n",
              "SibSp     0.013673  0.051394  \n",
              "Parch     0.016480  0.029859  \n",
              "Fare      0.010413 -0.019662  \n",
              "Embarked -0.019662  0.648563  "
            ],
            "text/html": [
              "\n",
              "  <div id=\"df-bb6ded30-7279-44e5-a435-9690c6f84c3f\">\n",
              "    <div class=\"colab-df-container\">\n",
              "      <div>\n",
              "<style scoped>\n",
              "    .dataframe tbody tr th:only-of-type {\n",
              "        vertical-align: middle;\n",
              "    }\n",
              "\n",
              "    .dataframe tbody tr th {\n",
              "        vertical-align: top;\n",
              "    }\n",
              "\n",
              "    .dataframe thead th {\n",
              "        text-align: right;\n",
              "    }\n",
              "</style>\n",
              "<table border=\"1\" class=\"dataframe\">\n",
              "  <thead>\n",
              "    <tr style=\"text-align: right;\">\n",
              "      <th></th>\n",
              "      <th>Survived</th>\n",
              "      <th>Pclass</th>\n",
              "      <th>Sex</th>\n",
              "      <th>Age</th>\n",
              "      <th>SibSp</th>\n",
              "      <th>Parch</th>\n",
              "      <th>Fare</th>\n",
              "      <th>Embarked</th>\n",
              "    </tr>\n",
              "  </thead>\n",
              "  <tbody>\n",
              "    <tr>\n",
              "      <th>Survived</th>\n",
              "      <td>0.242446</td>\n",
              "      <td>-0.140018</td>\n",
              "      <td>-0.121904</td>\n",
              "      <td>-0.007123</td>\n",
              "      <td>-0.017552</td>\n",
              "      <td>0.029489</td>\n",
              "      <td>0.012295</td>\n",
              "      <td>-0.062597</td>\n",
              "    </tr>\n",
              "    <tr>\n",
              "      <th>Pclass</th>\n",
              "      <td>-0.140018</td>\n",
              "      <td>0.727960</td>\n",
              "      <td>0.046736</td>\n",
              "      <td>-0.049141</td>\n",
              "      <td>0.071768</td>\n",
              "      <td>0.026653</td>\n",
              "      <td>-0.047993</td>\n",
              "      <td>0.124535</td>\n",
              "    </tr>\n",
              "    <tr>\n",
              "      <th>Sex</th>\n",
              "      <td>-0.121904</td>\n",
              "      <td>0.046736</td>\n",
              "      <td>0.234109</td>\n",
              "      <td>0.008234</td>\n",
              "      <td>-0.047841</td>\n",
              "      <td>-0.097147</td>\n",
              "      <td>-0.008243</td>\n",
              "      <td>0.039675</td>\n",
              "    </tr>\n",
              "    <tr>\n",
              "      <th>Age</th>\n",
              "      <td>-0.007123</td>\n",
              "      <td>-0.049141</td>\n",
              "      <td>0.008234</td>\n",
              "      <td>0.029527</td>\n",
              "      <td>-0.047438</td>\n",
              "      <td>-0.026808</td>\n",
              "      <td>0.001538</td>\n",
              "      <td>-0.004806</td>\n",
              "    </tr>\n",
              "    <tr>\n",
              "      <th>SibSp</th>\n",
              "      <td>-0.017552</td>\n",
              "      <td>0.071768</td>\n",
              "      <td>-0.047841</td>\n",
              "      <td>-0.047438</td>\n",
              "      <td>0.978035</td>\n",
              "      <td>0.315573</td>\n",
              "      <td>0.013673</td>\n",
              "      <td>0.051394</td>\n",
              "    </tr>\n",
              "    <tr>\n",
              "      <th>Parch</th>\n",
              "      <td>0.029489</td>\n",
              "      <td>0.026653</td>\n",
              "      <td>-0.097147</td>\n",
              "      <td>-0.026808</td>\n",
              "      <td>0.315573</td>\n",
              "      <td>0.704503</td>\n",
              "      <td>0.016480</td>\n",
              "      <td>0.029859</td>\n",
              "    </tr>\n",
              "    <tr>\n",
              "      <th>Fare</th>\n",
              "      <td>0.012295</td>\n",
              "      <td>-0.047993</td>\n",
              "      <td>-0.008243</td>\n",
              "      <td>0.001538</td>\n",
              "      <td>0.013673</td>\n",
              "      <td>0.016480</td>\n",
              "      <td>0.010413</td>\n",
              "      <td>-0.019662</td>\n",
              "    </tr>\n",
              "    <tr>\n",
              "      <th>Embarked</th>\n",
              "      <td>-0.062597</td>\n",
              "      <td>0.124535</td>\n",
              "      <td>0.039675</td>\n",
              "      <td>-0.004806</td>\n",
              "      <td>0.051394</td>\n",
              "      <td>0.029859</td>\n",
              "      <td>-0.019662</td>\n",
              "      <td>0.648563</td>\n",
              "    </tr>\n",
              "  </tbody>\n",
              "</table>\n",
              "</div>\n",
              "      <button class=\"colab-df-convert\" onclick=\"convertToInteractive('df-bb6ded30-7279-44e5-a435-9690c6f84c3f')\"\n",
              "              title=\"Convert this dataframe to an interactive table.\"\n",
              "              style=\"display:none;\">\n",
              "        \n",
              "  <svg xmlns=\"http://www.w3.org/2000/svg\" height=\"24px\"viewBox=\"0 0 24 24\"\n",
              "       width=\"24px\">\n",
              "    <path d=\"M0 0h24v24H0V0z\" fill=\"none\"/>\n",
              "    <path d=\"M18.56 5.44l.94 2.06.94-2.06 2.06-.94-2.06-.94-.94-2.06-.94 2.06-2.06.94zm-11 1L8.5 8.5l.94-2.06 2.06-.94-2.06-.94L8.5 2.5l-.94 2.06-2.06.94zm10 10l.94 2.06.94-2.06 2.06-.94-2.06-.94-.94-2.06-.94 2.06-2.06.94z\"/><path d=\"M17.41 7.96l-1.37-1.37c-.4-.4-.92-.59-1.43-.59-.52 0-1.04.2-1.43.59L10.3 9.45l-7.72 7.72c-.78.78-.78 2.05 0 2.83L4 21.41c.39.39.9.59 1.41.59.51 0 1.02-.2 1.41-.59l7.78-7.78 2.81-2.81c.8-.78.8-2.07 0-2.86zM5.41 20L4 18.59l7.72-7.72 1.47 1.35L5.41 20z\"/>\n",
              "  </svg>\n",
              "      </button>\n",
              "      \n",
              "  <style>\n",
              "    .colab-df-container {\n",
              "      display:flex;\n",
              "      flex-wrap:wrap;\n",
              "      gap: 12px;\n",
              "    }\n",
              "\n",
              "    .colab-df-convert {\n",
              "      background-color: #E8F0FE;\n",
              "      border: none;\n",
              "      border-radius: 50%;\n",
              "      cursor: pointer;\n",
              "      display: none;\n",
              "      fill: #1967D2;\n",
              "      height: 32px;\n",
              "      padding: 0 0 0 0;\n",
              "      width: 32px;\n",
              "    }\n",
              "\n",
              "    .colab-df-convert:hover {\n",
              "      background-color: #E2EBFA;\n",
              "      box-shadow: 0px 1px 2px rgba(60, 64, 67, 0.3), 0px 1px 3px 1px rgba(60, 64, 67, 0.15);\n",
              "      fill: #174EA6;\n",
              "    }\n",
              "\n",
              "    [theme=dark] .colab-df-convert {\n",
              "      background-color: #3B4455;\n",
              "      fill: #D2E3FC;\n",
              "    }\n",
              "\n",
              "    [theme=dark] .colab-df-convert:hover {\n",
              "      background-color: #434B5C;\n",
              "      box-shadow: 0px 1px 3px 1px rgba(0, 0, 0, 0.15);\n",
              "      filter: drop-shadow(0px 1px 2px rgba(0, 0, 0, 0.3));\n",
              "      fill: #FFFFFF;\n",
              "    }\n",
              "  </style>\n",
              "\n",
              "      <script>\n",
              "        const buttonEl =\n",
              "          document.querySelector('#df-bb6ded30-7279-44e5-a435-9690c6f84c3f button.colab-df-convert');\n",
              "        buttonEl.style.display =\n",
              "          google.colab.kernel.accessAllowed ? 'block' : 'none';\n",
              "\n",
              "        async function convertToInteractive(key) {\n",
              "          const element = document.querySelector('#df-bb6ded30-7279-44e5-a435-9690c6f84c3f');\n",
              "          const dataTable =\n",
              "            await google.colab.kernel.invokeFunction('convertToInteractive',\n",
              "                                                     [key], {});\n",
              "          if (!dataTable) return;\n",
              "\n",
              "          const docLinkHtml = 'Like what you see? Visit the ' +\n",
              "            '<a target=\"_blank\" href=https://colab.research.google.com/notebooks/data_table.ipynb>data table notebook</a>'\n",
              "            + ' to learn more about interactive tables.';\n",
              "          element.innerHTML = '';\n",
              "          dataTable['output_type'] = 'display_data';\n",
              "          await google.colab.output.renderOutput(dataTable, element);\n",
              "          const docLink = document.createElement('div');\n",
              "          docLink.innerHTML = docLinkHtml;\n",
              "          element.appendChild(docLink);\n",
              "        }\n",
              "      </script>\n",
              "    </div>\n",
              "  </div>\n",
              "  "
            ]
          },
          "metadata": {},
          "execution_count": 34
        }
      ]
    },
    {
      "cell_type": "code",
      "source": [
        "d.cov()['Survived'].sort_values(ascending=False)"
      ],
      "metadata": {
        "execution": {
          "iopub.status.busy": "2022-09-04T15:27:05.584517Z",
          "iopub.execute_input": "2022-09-04T15:27:05.584836Z",
          "iopub.status.idle": "2022-09-04T15:27:05.596157Z",
          "shell.execute_reply.started": "2022-09-04T15:27:05.584808Z",
          "shell.execute_reply": "2022-09-04T15:27:05.595040Z"
        },
        "trusted": true,
        "id": "sXIuNxokLuHL",
        "colab": {
          "base_uri": "https://localhost:8080/"
        },
        "outputId": "16806002-3194-4187-fca7-9edde77cfdbe"
      },
      "execution_count": null,
      "outputs": [
        {
          "output_type": "execute_result",
          "data": {
            "text/plain": [
              "Survived    0.242446\n",
              "Parch       0.029489\n",
              "Fare        0.012295\n",
              "Age        -0.007123\n",
              "SibSp      -0.017552\n",
              "Embarked   -0.062597\n",
              "Sex        -0.121904\n",
              "Pclass     -0.140018\n",
              "Name: Survived, dtype: float64"
            ]
          },
          "metadata": {},
          "execution_count": 35
        }
      ]
    },
    {
      "cell_type": "code",
      "source": [
        "import matplotlib.pyplot as plt\n",
        "%matplotlib inline\n",
        "\n",
        "d.plot.box()\n",
        "plt.xticks(list(range(len(d.columns))),d.columns,rotation='vertical')"
      ],
      "metadata": {
        "execution": {
          "iopub.status.busy": "2022-09-04T15:27:05.600417Z",
          "iopub.execute_input": "2022-09-04T15:27:05.600978Z",
          "iopub.status.idle": "2022-09-04T15:27:05.925361Z",
          "shell.execute_reply.started": "2022-09-04T15:27:05.600939Z",
          "shell.execute_reply": "2022-09-04T15:27:05.924283Z"
        },
        "trusted": true,
        "id": "unZX367KLuHM",
        "colab": {
          "base_uri": "https://localhost:8080/",
          "height": 584
        },
        "outputId": "3ed4fc12-b17e-4a46-86f4-bfff52e1b7a3"
      },
      "execution_count": null,
      "outputs": [
        {
          "output_type": "execute_result",
          "data": {
            "text/plain": [
              "([<matplotlib.axis.XTick at 0x7f3e7a241c10>,\n",
              "  <matplotlib.axis.XTick at 0x7f3e7a241bd0>,\n",
              "  <matplotlib.axis.XTick at 0x7f3e7a2417d0>,\n",
              "  <matplotlib.axis.XTick at 0x7f3e7a1af690>,\n",
              "  <matplotlib.axis.XTick at 0x7f3e7a1afb10>,\n",
              "  <matplotlib.axis.XTick at 0x7f3e7a1afd50>,\n",
              "  <matplotlib.axis.XTick at 0x7f3e7a13f210>,\n",
              "  <matplotlib.axis.XTick at 0x7f3e7a13f850>],\n",
              " [Text(0, 0, 'Survived'),\n",
              "  Text(0, 0, 'Pclass'),\n",
              "  Text(0, 0, 'Sex'),\n",
              "  Text(0, 0, 'Age'),\n",
              "  Text(0, 0, 'SibSp'),\n",
              "  Text(0, 0, 'Parch'),\n",
              "  Text(0, 0, 'Fare'),\n",
              "  Text(0, 0, 'Embarked')])"
            ]
          },
          "metadata": {},
          "execution_count": 36
        },
        {
          "output_type": "display_data",
          "data": {
            "text/plain": [
              "<Figure size 432x288 with 1 Axes>"
            ],
            "image/png": "[encoded data removed]"
          },
          "metadata": {
            "needs_background": "light"
          }
        }
      ]
    },
    {
      "cell_type": "markdown",
      "source": [
        "# 2.Splitting the DataSet"
      ],
      "metadata": {
        "id": "RcG41fAALuHN"
      }
    },
    {
      "cell_type": "code",
      "source": [
        "#Checking the dimension of data before splitting it into train and test\n",
        "d.shape"
      ],
      "metadata": {
        "execution": {
          "iopub.status.busy": "2022-09-04T15:27:05.926641Z",
          "iopub.execute_input": "2022-09-04T15:27:05.926977Z",
          "iopub.status.idle": "2022-09-04T15:27:05.934637Z",
          "shell.execute_reply.started": "2022-09-04T15:27:05.926946Z",
          "shell.execute_reply": "2022-09-04T15:27:05.933144Z"
        },
        "trusted": true,
        "id": "bRsJTAvVLuHO",
        "colab": {
          "base_uri": "https://localhost:8080/"
        },
        "outputId": "52a4ef73-1522-426c-c4c6-10288c8933a1"
      },
      "execution_count": null,
      "outputs": [
        {
          "output_type": "execute_result",
          "data": {
            "text/plain": [
              "(778, 8)"
            ]
          },
          "metadata": {},
          "execution_count": 37
        }
      ]
    },
    {
      "cell_type": "code",
      "source": [
        "# train dataset=80% , test dataset=20%\n",
        "# Ouput column (y) is 'Survived' column\n",
        "train_data=d.sample(frac=0.80,replace=False)\n",
        "test_data=d.drop(train_data.index)\n",
        "\n",
        "#convert dataframe to numpy array\n",
        "train_data=train_data.to_numpy()\n",
        "test_data=test_data.to_numpy()\n",
        "\n",
        "#Remove Survived Column\n",
        "x_train=np.delete(train_data,0,1)\n",
        "x_test=np.delete(test_data,0,1)\n",
        "\n",
        "#Survived Column is used for output vector\n",
        "y_train=train_data[:,0]\n",
        "y_test=test_data[:,0]"
      ],
      "metadata": {
        "execution": {
          "iopub.status.busy": "2022-09-04T15:27:05.935827Z",
          "iopub.execute_input": "2022-09-04T15:27:05.936646Z",
          "iopub.status.idle": "2022-09-04T15:27:05.947519Z",
          "shell.execute_reply.started": "2022-09-04T15:27:05.936613Z",
          "shell.execute_reply": "2022-09-04T15:27:05.946554Z"
        },
        "trusted": true,
        "id": "9T0O8NuaLuHP"
      },
      "execution_count": null,
      "outputs": []
    },
    {
      "cell_type": "code",
      "source": [
        "x_train"
      ],
      "metadata": {
        "execution": {
          "iopub.status.busy": "2022-09-04T15:27:05.949047Z",
          "iopub.execute_input": "2022-09-04T15:27:05.949867Z",
          "iopub.status.idle": "2022-09-04T15:27:05.960508Z",
          "shell.execute_reply.started": "2022-09-04T15:27:05.949832Z",
          "shell.execute_reply": "2022-09-04T15:27:05.959321Z"
        },
        "trusted": true,
        "id": "xnyP6grNLuHQ",
        "colab": {
          "base_uri": "https://localhost:8080/"
        },
        "outputId": "2981a28e-772d-464b-8bd5-6dd23ab7ba88"
      },
      "execution_count": null,
      "outputs": [
        {
          "output_type": "execute_result",
          "data": {
            "text/plain": [
              "array([[1.        , 1.        , 0.23347575, ..., 0.        , 0.1036443 ,\n",
              "        2.        ],\n",
              "       [2.        , 0.        , 0.2083438 , ..., 0.        , 0.02342244,\n",
              "        0.        ],\n",
              "       [3.        , 1.        , 0.39683338, ..., 0.        , 0.01546857,\n",
              "        2.        ],\n",
              "       ...,\n",
              "       [3.        , 1.        , 0.52249309, ..., 1.        , 0.01640391,\n",
              "        2.        ],\n",
              "       [1.        , 1.        , 0.560191  , ..., 0.        , 0.06929139,\n",
              "        2.        ],\n",
              "       [2.        , 1.        , 0.44709726, ..., 0.        , 0.02049464,\n",
              "        2.        ]])"
            ]
          },
          "metadata": {},
          "execution_count": 39
        }
      ]
    },
    {
      "cell_type": "code",
      "source": [
        "x_test"
      ],
      "metadata": {
        "execution": {
          "iopub.status.busy": "2022-09-04T15:27:05.962467Z",
          "iopub.execute_input": "2022-09-04T15:27:05.963090Z",
          "iopub.status.idle": "2022-09-04T15:27:05.974583Z",
          "shell.execute_reply.started": "2022-09-04T15:27:05.963054Z",
          "shell.execute_reply": "2022-09-04T15:27:05.973577Z"
        },
        "trusted": true,
        "id": "uiyBDDIiLuHR",
        "colab": {
          "base_uri": "https://localhost:8080/"
        },
        "outputId": "42ce40af-f288-4413-db25-f8b8bce3c6a9"
      },
      "execution_count": null,
      "outputs": [
        {
          "output_type": "execute_result",
          "data": {
            "text/plain": [
              "array([[1.        , 1.        , 0.67328474, ..., 0.        , 0.10122886,\n",
              "        2.        ],\n",
              "       [3.        , 1.        , 0.24604172, ..., 0.        , 0.01571255,\n",
              "        2.        ],\n",
              "       [3.        , 1.        , 0.01985423, ..., 1.        , 0.05684821,\n",
              "        1.        ],\n",
              "       ...,\n",
              "       [3.        , 1.        , 0.40939935, ..., 0.        , 0.01541158,\n",
              "        2.        ],\n",
              "       [2.        , 1.        , 0.34656949, ..., 0.        , 0.02049464,\n",
              "        2.        ],\n",
              "       [3.        , 1.        , 0.39683338, ..., 0.        , 0.01512699,\n",
              "        1.        ]])"
            ]
          },
          "metadata": {},
          "execution_count": 40
        }
      ]
    },
    {
      "cell_type": "code",
      "source": [
        "print(x_train.shape)"
      ],
      "metadata": {
        "execution": {
          "iopub.status.busy": "2022-09-04T15:27:05.976387Z",
          "iopub.execute_input": "2022-09-04T15:27:05.976746Z",
          "iopub.status.idle": "2022-09-04T15:27:05.983819Z",
          "shell.execute_reply.started": "2022-09-04T15:27:05.976715Z",
          "shell.execute_reply": "2022-09-04T15:27:05.982698Z"
        },
        "trusted": true,
        "id": "C36xb9a4LuHS",
        "colab": {
          "base_uri": "https://localhost:8080/"
        },
        "outputId": "495efa16-8fa5-42b3-c3f2-d165ee31694b"
      },
      "execution_count": null,
      "outputs": [
        {
          "output_type": "stream",
          "name": "stdout",
          "text": [
            "(622, 7)\n"
          ]
        }
      ]
    },
    {
      "cell_type": "code",
      "source": [
        "print(x_test.shape)"
      ],
      "metadata": {
        "execution": {
          "iopub.status.busy": "2022-09-04T15:27:05.985259Z",
          "iopub.execute_input": "2022-09-04T15:27:05.985946Z",
          "iopub.status.idle": "2022-09-04T15:27:05.997078Z",
          "shell.execute_reply.started": "2022-09-04T15:27:05.985911Z",
          "shell.execute_reply": "2022-09-04T15:27:05.995882Z"
        },
        "trusted": true,
        "id": "l4TgfraCLuHT",
        "colab": {
          "base_uri": "https://localhost:8080/"
        },
        "outputId": "658564cf-9590-40b4-802e-529e596f9460"
      },
      "execution_count": null,
      "outputs": [
        {
          "output_type": "stream",
          "name": "stdout",
          "text": [
            "(156, 7)\n"
          ]
        }
      ]
    },
    {
      "cell_type": "code",
      "source": [
        "print(y_train.shape)"
      ],
      "metadata": {
        "execution": {
          "iopub.status.busy": "2022-09-04T15:27:05.998944Z",
          "iopub.execute_input": "2022-09-04T15:27:05.999337Z",
          "iopub.status.idle": "2022-09-04T15:27:06.010845Z",
          "shell.execute_reply.started": "2022-09-04T15:27:05.999303Z",
          "shell.execute_reply": "2022-09-04T15:27:06.009605Z"
        },
        "trusted": true,
        "id": "lehoIGQBLuHT",
        "colab": {
          "base_uri": "https://localhost:8080/"
        },
        "outputId": "832fff8a-bea4-4ab6-a48c-589ac2efa822"
      },
      "execution_count": null,
      "outputs": [
        {
          "output_type": "stream",
          "name": "stdout",
          "text": [
            "(622,)\n"
          ]
        }
      ]
    },
    {
      "cell_type": "code",
      "source": [
        "print(y_test.shape)"
      ],
      "metadata": {
        "execution": {
          "iopub.status.busy": "2022-09-04T15:27:06.012153Z",
          "iopub.execute_input": "2022-09-04T15:27:06.012642Z",
          "iopub.status.idle": "2022-09-04T15:27:06.023924Z",
          "shell.execute_reply.started": "2022-09-04T15:27:06.012606Z",
          "shell.execute_reply": "2022-09-04T15:27:06.022700Z"
        },
        "trusted": true,
        "id": "0Y26RDbzLuHU",
        "colab": {
          "base_uri": "https://localhost:8080/"
        },
        "outputId": "dbb2713a-b09d-4d09-d588-0bb15ef6c525"
      },
      "execution_count": null,
      "outputs": [
        {
          "output_type": "stream",
          "name": "stdout",
          "text": [
            "(156,)\n"
          ]
        }
      ]
    },
    {
      "cell_type": "code",
      "source": [
        "x_train = x_train.T\n",
        "y_train = y_train.reshape((1, 622))\n",
        "\n",
        "x_test = x_test.T\n",
        "y_test = y_test.reshape((1, 156))"
      ],
      "metadata": {
        "execution": {
          "iopub.status.busy": "2022-09-04T15:27:06.025407Z",
          "iopub.execute_input": "2022-09-04T15:27:06.025895Z",
          "iopub.status.idle": "2022-09-04T15:27:06.036292Z",
          "shell.execute_reply.started": "2022-09-04T15:27:06.025860Z",
          "shell.execute_reply": "2022-09-04T15:27:06.035231Z"
        },
        "trusted": true,
        "id": "upPiABuFLuHV"
      },
      "execution_count": null,
      "outputs": []
    },
    {
      "cell_type": "code",
      "source": [
        "print(\"Shape of X_train : \", x_train.shape)\n",
        "print(\"Shape of Y_train : \", y_train.shape)\n",
        "print(\"Shape of X_test : \", x_test.shape)\n",
        "print(\"Shape of Y_test : \", y_test.shape)"
      ],
      "metadata": {
        "execution": {
          "iopub.status.busy": "2022-09-04T15:27:06.037558Z",
          "iopub.execute_input": "2022-09-04T15:27:06.037932Z",
          "iopub.status.idle": "2022-09-04T15:27:06.050669Z",
          "shell.execute_reply.started": "2022-09-04T15:27:06.037899Z",
          "shell.execute_reply": "2022-09-04T15:27:06.049717Z"
        },
        "trusted": true,
        "id": "_M1CbUhtLuHW",
        "colab": {
          "base_uri": "https://localhost:8080/"
        },
        "outputId": "2f0ec881-5693-452d-fda1-b9235fd81c59"
      },
      "execution_count": null,
      "outputs": [
        {
          "output_type": "stream",
          "name": "stdout",
          "text": [
            "Shape of X_train :  (7, 622)\n",
            "Shape of Y_train :  (1, 622)\n",
            "Shape of X_test :  (7, 156)\n",
            "Shape of Y_test :  (1, 156)\n"
          ]
        }
      ]
    },
    {
      "cell_type": "markdown",
      "source": [
        "# 3. Modeling"
      ],
      "metadata": {
        "id": "JDmn-dFOLuHW"
      }
    },
    {
      "cell_type": "markdown",
      "source": [
        "# 3-a Logistic Regression Using Gradient Descent"
      ],
      "metadata": {
        "id": "0DpWnIqhLuHX"
      }
    },
    {
      "cell_type": "markdown",
      "source": [
        "# # Sigmoid Function\n"
      ],
      "metadata": {
        "id": "_L2oYr06LuHY"
      }
    },
    {
      "cell_type": "code",
      "source": [
        "#function for sigmoid function\n",
        "def sigmoid(x):\n",
        "    return 1/(1 + np.exp(-x))"
      ],
      "metadata": {
        "execution": {
          "iopub.status.busy": "2022-09-04T15:27:06.051628Z",
          "iopub.execute_input": "2022-09-04T15:27:06.051956Z",
          "iopub.status.idle": "2022-09-04T15:27:06.064649Z",
          "shell.execute_reply.started": "2022-09-04T15:27:06.051927Z",
          "shell.execute_reply": "2022-09-04T15:27:06.063297Z"
        },
        "trusted": true,
        "id": "PuDKH--NLuHY"
      },
      "execution_count": null,
      "outputs": []
    },
    {
      "cell_type": "code",
      "source": [
        "def model(x, y, learning_rate, iterations):\n",
        "    \n",
        "    m = x_train.shape[1]\n",
        "    n = x_train.shape[0]\n",
        "    \n",
        "    #initialising with zeroes\n",
        "    w = np.zeros((n,1))\n",
        "    \n",
        "    #parameter\n",
        "    b = 0 \n",
        "    \n",
        "    cost_l = []\n",
        "    \n",
        "    for i in range(iterations):\n",
        "        \n",
        "        z = np.dot(w.T, x) + b\n",
        "        a = sigmoid(z)\n",
        "        \n",
        "        # Cost function\n",
        "        cost = -(1/m)*np.sum( y*np.log(a) + (1-y)*np.log(1-a))\n",
        "        \n",
        "        # Gradient Descent\n",
        "        dW = (1/m)*np.dot(a-y, x.T)\n",
        "        dB = (1/m)*np.sum(a - y)\n",
        "        \n",
        "        w = w - learning_rate*dW.T\n",
        "        b = b - learning_rate*dB\n",
        "        \n",
        "        # Keeping track of our cost function value\n",
        "        cost_l.append(cost)\n",
        "        \n",
        "        if(i%(iterations/10) == 0):\n",
        "            print(cost)\n",
        "        \n",
        "    return w, b, cost_l\n",
        "        "
      ],
      "metadata": {
        "execution": {
          "iopub.status.busy": "2022-09-04T15:27:06.070640Z",
          "iopub.execute_input": "2022-09-04T15:27:06.071759Z",
          "iopub.status.idle": "2022-09-04T15:27:06.080745Z",
          "shell.execute_reply.started": "2022-09-04T15:27:06.071717Z",
          "shell.execute_reply": "2022-09-04T15:27:06.079814Z"
        },
        "trusted": true,
        "id": "4ZTWqLzULuHZ"
      },
      "execution_count": null,
      "outputs": []
    },
    {
      "cell_type": "code",
      "source": [
        "iterations = 100000\n",
        "learning_rate = 0.0015\n",
        "w, b, cost_list = model(x_train, y_train,learning_rate =learning_rate, iterations=iterations)"
      ],
      "metadata": {
        "execution": {
          "iopub.status.busy": "2022-09-04T15:27:06.081968Z",
          "iopub.execute_input": "2022-09-04T15:27:06.082801Z",
          "iopub.status.idle": "2022-09-04T15:27:12.787245Z",
          "shell.execute_reply.started": "2022-09-04T15:27:06.082769Z",
          "shell.execute_reply": "2022-09-04T15:27:12.785968Z"
        },
        "trusted": true,
        "id": "9625VtkLLuHa",
        "colab": {
          "base_uri": "https://localhost:8080/"
        },
        "outputId": "b7b5be2d-2e76-4d25-d6b1-9e6af56de8e6"
      },
      "execution_count": null,
      "outputs": [
        {
          "output_type": "stream",
          "name": "stdout",
          "text": [
            "0.6931471805599453\n",
            "0.5558669328205121\n",
            "0.5229499592776231\n",
            "0.5071490642853778\n",
            "0.4980509034330481\n",
            "0.4921340158431143\n",
            "0.48793499413370406\n",
            "0.48475178452546713\n",
            "0.48221315876280885\n",
            "0.4801090667766562\n"
          ]
        }
      ]
    },
    {
      "cell_type": "markdown",
      "source": [
        "# # F1 score calculation "
      ],
      "metadata": {
        "id": "Md-zfrMYLuHb"
      }
    },
    {
      "cell_type": "code",
      "source": [
        "z=np.dot(w.T,x_test)+b\n",
        "pred_y=sigmoid(z);\n",
        "pred_y=pred_y>0.5\n",
        "pred_y=np.array(pred_y,dtype='int64')\n",
        "pred_y"
      ],
      "metadata": {
        "execution": {
          "iopub.status.busy": "2022-09-04T15:27:12.788690Z",
          "iopub.execute_input": "2022-09-04T15:27:12.789384Z",
          "iopub.status.idle": "2022-09-04T15:27:12.798004Z",
          "shell.execute_reply.started": "2022-09-04T15:27:12.789344Z",
          "shell.execute_reply": "2022-09-04T15:27:12.796906Z"
        },
        "trusted": true,
        "id": "OIcurtENLuHc",
        "colab": {
          "base_uri": "https://localhost:8080/"
        },
        "outputId": "5c37baf6-59fb-48ad-e244-63f98eada73d"
      },
      "execution_count": null,
      "outputs": [
        {
          "output_type": "execute_result",
          "data": {
            "text/plain": [
              "array([[0, 0, 0, 0, 0, 1, 1, 0, 0, 1, 0, 0, 0, 1, 0, 0, 1, 0, 0, 0, 0, 0,\n",
              "        0, 1, 0, 0, 0, 0, 1, 0, 0, 1, 0, 1, 0, 0, 0, 0, 1, 0, 1, 1, 1, 0,\n",
              "        0, 1, 0, 0, 0, 0, 0, 1, 1, 1, 0, 1, 0, 1, 1, 1, 0, 0, 1, 1, 0, 0,\n",
              "        1, 1, 1, 0, 1, 0, 0, 1, 0, 0, 0, 0, 0, 1, 0, 0, 0, 0, 1, 0, 0, 0,\n",
              "        1, 0, 1, 0, 1, 0, 0, 0, 0, 0, 0, 0, 0, 1, 0, 1, 0, 0, 1, 0, 0, 0,\n",
              "        0, 1, 0, 0, 1, 0, 1, 1, 0, 1, 0, 0, 0, 0, 0, 1, 0, 0, 0, 1, 0, 1,\n",
              "        0, 1, 1, 0, 1, 1, 0, 1, 0, 1, 0, 0, 0, 0, 0, 0, 1, 1, 1, 0, 1, 0,\n",
              "        0, 0]])"
            ]
          },
          "metadata": {},
          "execution_count": 50
        }
      ]
    },
    {
      "cell_type": "code",
      "source": [
        "y_test=np.array(y_test,dtype='int64')\n",
        "y_test"
      ],
      "metadata": {
        "execution": {
          "iopub.status.busy": "2022-09-04T15:27:12.799724Z",
          "iopub.execute_input": "2022-09-04T15:27:12.800096Z",
          "iopub.status.idle": "2022-09-04T15:27:12.812233Z",
          "shell.execute_reply.started": "2022-09-04T15:27:12.800063Z",
          "shell.execute_reply": "2022-09-04T15:27:12.811034Z"
        },
        "trusted": true,
        "id": "mimyl_AvLuHd",
        "colab": {
          "base_uri": "https://localhost:8080/"
        },
        "outputId": "fd112d1a-dcd9-470d-fa22-dcde230c9fbf"
      },
      "execution_count": null,
      "outputs": [
        {
          "output_type": "execute_result",
          "data": {
            "text/plain": [
              "array([[0, 0, 0, 1, 1, 0, 1, 0, 1, 0, 0, 0, 0, 1, 0, 1, 1, 0, 0, 0, 0, 0,\n",
              "        0, 1, 0, 0, 0, 0, 1, 0, 0, 1, 0, 1, 0, 1, 0, 1, 0, 0, 0, 0, 1, 0,\n",
              "        0, 1, 0, 0, 0, 0, 1, 1, 0, 1, 0, 1, 0, 1, 1, 0, 0, 0, 1, 0, 0, 1,\n",
              "        0, 0, 1, 0, 0, 0, 1, 1, 1, 0, 1, 1, 0, 1, 0, 1, 0, 0, 1, 0, 1, 0,\n",
              "        1, 1, 0, 0, 1, 0, 1, 0, 0, 0, 0, 0, 0, 0, 0, 0, 1, 1, 1, 1, 0, 0,\n",
              "        0, 0, 0, 0, 1, 0, 1, 0, 0, 1, 1, 0, 0, 0, 0, 0, 1, 0, 0, 1, 1, 1,\n",
              "        0, 1, 1, 0, 1, 1, 0, 0, 0, 1, 0, 0, 0, 1, 0, 0, 0, 1, 1, 1, 1, 0,\n",
              "        0, 0]])"
            ]
          },
          "metadata": {},
          "execution_count": 51
        }
      ]
    },
    {
      "cell_type": "markdown",
      "source": [
        "***True Positive (TP)***: True positive measures the extent to which the model correctly predicts the positive class. That is, the model predicts that the instance is positive, and the instance is actually positive. True positives are relevant when we want to know how many positives our model correctly predicts."
      ],
      "metadata": {
        "id": "h4vLqpikLuHe"
      }
    },
    {
      "cell_type": "markdown",
      "source": [
        "***False Positive (FP)***: False positives occur when the model predicts that an instance belongs to a class that it actually does not. False positives can be problematic because they can lead to incorrect decision-making."
      ],
      "metadata": {
        "id": "HNKQbYzFLuHg"
      }
    },
    {
      "cell_type": "markdown",
      "source": [
        "***True Negative (TN)***: True negatives are the outcomes that the model correctly predicts as negative."
      ],
      "metadata": {
        "id": "3bqsW-WZLuHg"
      }
    },
    {
      "cell_type": "markdown",
      "source": [
        "***False Negative (FN)***: A false negative occurs when a model predicts an instance as negative when it is actually positive."
      ],
      "metadata": {
        "id": "kSq40EbjLuHh"
      }
    },
    {
      "cell_type": "code",
      "source": [
        "TP=np.sum((pred_y==1)& (y_test==1))\n",
        "FP=np.sum((pred_y==1)& (y_test==0))\n",
        "TN=np.sum((pred_y==0)& (y_test==0))\n",
        "FN=np.sum((pred_y==0)& (y_test==1))"
      ],
      "metadata": {
        "execution": {
          "iopub.status.busy": "2022-09-04T15:27:12.813812Z",
          "iopub.execute_input": "2022-09-04T15:27:12.814476Z",
          "iopub.status.idle": "2022-09-04T15:27:12.823001Z",
          "shell.execute_reply.started": "2022-09-04T15:27:12.814441Z",
          "shell.execute_reply": "2022-09-04T15:27:12.822151Z"
        },
        "trusted": true,
        "id": "9pi2kDkhLuHi"
      },
      "execution_count": null,
      "outputs": []
    },
    {
      "cell_type": "markdown",
      "source": [
        "***Recall Score*** : Model recall score represents the model’s ability to correctly predict the positives out of actual positives. This is unlike precision which measures how many predictions made by models are actually positive out of all positive predictions made."
      ],
      "metadata": {
        "id": "n9_cQxkcLuHj"
      }
    },
    {
      "cell_type": "code",
      "source": [
        "R=TP/(FN+TP)\n",
        "R"
      ],
      "metadata": {
        "execution": {
          "iopub.status.busy": "2022-09-04T15:27:12.824435Z",
          "iopub.execute_input": "2022-09-04T15:27:12.825086Z",
          "iopub.status.idle": "2022-09-04T15:27:12.838427Z",
          "shell.execute_reply.started": "2022-09-04T15:27:12.825040Z",
          "shell.execute_reply": "2022-09-04T15:27:12.837447Z"
        },
        "trusted": true,
        "id": "s-TaxfDOLuIE",
        "colab": {
          "base_uri": "https://localhost:8080/"
        },
        "outputId": "be1dba8a-3533-40b4-a338-f667c3e08948"
      },
      "execution_count": null,
      "outputs": [
        {
          "output_type": "execute_result",
          "data": {
            "text/plain": [
              "0.5932203389830508"
            ]
          },
          "metadata": {},
          "execution_count": 53
        }
      ]
    },
    {
      "cell_type": "markdown",
      "source": [
        "***Precision Score*** : The model precision score measures the proportion of positively predicted labels that are actually correct. Precision is also known as the positive predictive value. Precision is used in conjunction with the recall to trade-off false positives and false negatives."
      ],
      "metadata": {
        "id": "J8G4mwbcLuIF"
      }
    },
    {
      "cell_type": "code",
      "source": [
        "P=TP/(TP+FP)\n",
        "P"
      ],
      "metadata": {
        "execution": {
          "iopub.status.busy": "2022-09-04T15:27:12.840067Z",
          "iopub.execute_input": "2022-09-04T15:27:12.840410Z",
          "iopub.status.idle": "2022-09-04T15:27:12.851331Z",
          "shell.execute_reply.started": "2022-09-04T15:27:12.840381Z",
          "shell.execute_reply": "2022-09-04T15:27:12.850322Z"
        },
        "trusted": true,
        "id": "Wo-IK_n2LuIG",
        "colab": {
          "base_uri": "https://localhost:8080/"
        },
        "outputId": "57982d75-86ab-489b-f88c-223d9ea440a9"
      },
      "execution_count": null,
      "outputs": [
        {
          "output_type": "execute_result",
          "data": {
            "text/plain": [
              "0.6481481481481481"
            ]
          },
          "metadata": {},
          "execution_count": 54
        }
      ]
    },
    {
      "cell_type": "markdown",
      "source": [
        "**F1 Score** : Model F1 score represents the model score as a function of precision and recall score. F-score is a machine learning model performance metric that gives equal weight to both the Precision and Recall for measuring its performance in terms of accuracy, making it an alternative to Accuracy metrics (it doesn’t require us to know the total number of observations)."
      ],
      "metadata": {
        "id": "F8QkyVXwLuIG"
      }
    },
    {
      "cell_type": "code",
      "source": [
        "#f1 score calculation to validate the model\n",
        "f1_s=2*(R*P)/(R+P)\n",
        "print(\"The F1 score is \",f1_s*100)\n",
        "print(\"Error % is\",(1-f1_s)*100)\n"
      ],
      "metadata": {
        "execution": {
          "iopub.status.busy": "2022-09-04T15:28:27.419033Z",
          "iopub.execute_input": "2022-09-04T15:28:27.419479Z",
          "iopub.status.idle": "2022-09-04T15:28:27.425940Z",
          "shell.execute_reply.started": "2022-09-04T15:28:27.419434Z",
          "shell.execute_reply": "2022-09-04T15:28:27.424697Z"
        },
        "trusted": true,
        "id": "zZGLyqFzLuII",
        "colab": {
          "base_uri": "https://localhost:8080/"
        },
        "outputId": "06c20b62-3243-410b-ba3d-caa13a11ea75"
      },
      "execution_count": null,
      "outputs": [
        {
          "output_type": "stream",
          "name": "stdout",
          "text": [
            "The F1 score is  61.94690265486725\n",
            "Error % is 38.05309734513275\n"
          ]
        }
      ]
    },
    {
      "cell_type": "markdown",
      "source": [
        "# # Graph Plotting"
      ],
      "metadata": {
        "id": "Euxe09uRLuIJ"
      }
    },
    {
      "cell_type": "code",
      "source": [
        "import matplotlib.pyplot as plt\n",
        "plt.plot(np.arange(iterations), cost_list)\n",
        "plt.xlabel('X-INPUT: Iterations')\n",
        "plt.ylabel('Y-TARGET: Cost')\n",
        "plt.show()"
      ],
      "metadata": {
        "execution": {
          "iopub.status.busy": "2022-09-04T15:27:12.866340Z",
          "iopub.execute_input": "2022-09-04T15:27:12.866977Z",
          "iopub.status.idle": "2022-09-04T15:27:13.106870Z",
          "shell.execute_reply.started": "2022-09-04T15:27:12.866933Z",
          "shell.execute_reply": "2022-09-04T15:27:13.105531Z"
        },
        "trusted": true,
        "id": "JZMilulTLuIJ",
        "colab": {
          "base_uri": "https://localhost:8080/",
          "height": 280
        },
        "outputId": "de9a1192-4a40-410c-ed66-8778e9b27864"
      },
      "execution_count": null,
      "outputs": [
        {
          "output_type": "display_data",
          "data": {
            "text/plain": [
              "<Figure size 432x288 with 1 Axes>"
            ],
            "image/png": "[encoded data removed]"
          },
          "metadata": {
            "needs_background": "light"
          }
        }
      ]
    },
    {
      "cell_type": "markdown",
      "source": [
        "# 3-b Naive Bayes"
      ],
      "metadata": {
        "id": "90c7zM0eLuIK"
      }
    },
    {
      "cell_type": "code",
      "source": [
        "x_train=x_train.T\n",
        "x_test=x_test.T\n",
        "y_train=y_train.T\n",
        "y_test=y_test.T"
      ],
      "metadata": {
        "execution": {
          "iopub.status.busy": "2022-09-04T15:27:13.108259Z",
          "iopub.execute_input": "2022-09-04T15:27:13.108582Z",
          "iopub.status.idle": "2022-09-04T15:27:13.114783Z",
          "shell.execute_reply.started": "2022-09-04T15:27:13.108553Z",
          "shell.execute_reply": "2022-09-04T15:27:13.113448Z"
        },
        "trusted": true,
        "id": "FJpKTBmbLuIL"
      },
      "execution_count": null,
      "outputs": []
    },
    {
      "cell_type": "markdown",
      "source": [
        "# # Spliting dataset into Survived and non-Survived:"
      ],
      "metadata": {
        "id": "bN7otnYZLuIL"
      }
    },
    {
      "cell_type": "code",
      "source": [
        "x_train_sur = [] #array for survived entries \n",
        "x_train_nsur = [] #array for non-survived entries\n",
        "for i in range(len(y_train)):\n",
        "    if((y_train[i]) == 1):\n",
        "        x_train_sur.append(x_train[i])\n",
        "    else:\n",
        "        x_train_nsur.append(x_train[i])"
      ],
      "metadata": {
        "execution": {
          "iopub.status.busy": "2022-09-04T15:27:13.116042Z",
          "iopub.execute_input": "2022-09-04T15:27:13.116740Z",
          "iopub.status.idle": "2022-09-04T15:27:13.130073Z",
          "shell.execute_reply.started": "2022-09-04T15:27:13.116704Z",
          "shell.execute_reply": "2022-09-04T15:27:13.128908Z"
        },
        "trusted": true,
        "id": "YnVOwy4ILuIM"
      },
      "execution_count": null,
      "outputs": []
    },
    {
      "cell_type": "markdown",
      "source": [
        "# # Finding mean and variance:"
      ],
      "metadata": {
        "id": "2T_fzATwLuIN"
      }
    },
    {
      "cell_type": "code",
      "source": [
        "Sur_Mean = np.mean(x_train_sur, axis=0) \n",
        "Nsur_Mean = np.mean(x_train_nsur, axis=0)\n",
        "Sur_Var = np.var(x_train_sur, axis=0)\n",
        "Nsur_Var = np.var(x_train_nsur, axis=0)\n",
        "Sur_Mean\n",
        "Nsur_Mean\n",
        "Sur_Var\n",
        "Nsur_Var\n"
      ],
      "metadata": {
        "execution": {
          "iopub.status.busy": "2022-09-04T15:27:13.131656Z",
          "iopub.execute_input": "2022-09-04T15:27:13.131978Z",
          "iopub.status.idle": "2022-09-04T15:27:13.148234Z",
          "shell.execute_reply.started": "2022-09-04T15:27:13.131950Z",
          "shell.execute_reply": "2022-09-04T15:27:13.146702Z"
        },
        "trusted": true,
        "id": "AErdN-X0LuIN",
        "colab": {
          "base_uri": "https://localhost:8080/"
        },
        "outputId": "091570b1-63fd-4332-c0f8-7b37dfd34d4c"
      },
      "execution_count": null,
      "outputs": [
        {
          "output_type": "execute_result",
          "data": {
            "text/plain": [
              "array([0.60849748, 0.13296399, 0.02639368, 1.20829337, 0.69094006,\n",
              "       0.0043945 , 0.53739612])"
            ]
          },
          "metadata": {},
          "execution_count": 59
        }
      ]
    },
    {
      "cell_type": "markdown",
      "source": [
        "# # Probability of Survived People"
      ],
      "metadata": {
        "id": "qBV4C2AbLuIO"
      }
    },
    {
      "cell_type": "code",
      "source": [
        "p_sur = np.count_nonzero(y_train)/len(y_train)\n",
        "p_sur\n"
      ],
      "metadata": {
        "execution": {
          "iopub.status.busy": "2022-09-04T15:27:13.150116Z",
          "iopub.execute_input": "2022-09-04T15:27:13.150858Z",
          "iopub.status.idle": "2022-09-04T15:27:13.164554Z",
          "shell.execute_reply.started": "2022-09-04T15:27:13.150806Z",
          "shell.execute_reply": "2022-09-04T15:27:13.163249Z"
        },
        "trusted": true,
        "id": "px__j2d4LuIP",
        "colab": {
          "base_uri": "https://localhost:8080/"
        },
        "outputId": "5a17bfac-ecbe-463c-ce42-aaf61bb47c0a"
      },
      "execution_count": null,
      "outputs": [
        {
          "output_type": "execute_result",
          "data": {
            "text/plain": [
              "0.41961414790996787"
            ]
          },
          "metadata": {},
          "execution_count": 60
        }
      ]
    },
    {
      "cell_type": "markdown",
      "source": [
        "# # Probability of Unsurvived People"
      ],
      "metadata": {
        "id": "krni96eYLuIP"
      }
    },
    {
      "cell_type": "code",
      "source": [
        "p_nsur = 1-p_sur\n",
        "p_nsur"
      ],
      "metadata": {
        "execution": {
          "iopub.status.busy": "2022-09-04T15:27:13.166335Z",
          "iopub.execute_input": "2022-09-04T15:27:13.166791Z",
          "iopub.status.idle": "2022-09-04T15:27:13.176313Z",
          "shell.execute_reply.started": "2022-09-04T15:27:13.166755Z",
          "shell.execute_reply": "2022-09-04T15:27:13.175026Z"
        },
        "trusted": true,
        "id": "58VuOedKLuIQ",
        "colab": {
          "base_uri": "https://localhost:8080/"
        },
        "outputId": "731be51b-1c3f-4762-9c4a-abd709c1813e"
      },
      "execution_count": 78,
      "outputs": [
        {
          "output_type": "execute_result",
          "data": {
            "text/plain": [
              "0.5803858520900321"
            ]
          },
          "metadata": {},
          "execution_count": 78
        }
      ]
    },
    {
      "cell_type": "markdown",
      "source": [
        "# # Gaussian Function "
      ],
      "metadata": {
        "id": "y7JceG4BLuIR"
      }
    },
    {
      "cell_type": "code",
      "source": [
        "def Gaussian(mean, variance, x):\n",
        "    deno = np.prod(np.sqrt(2.0*np.pi*variance))\n",
        "    power = -1.0*(x-mean)*(x-mean)/(2.0*variance)\n",
        "    return np.prod(np.exp(power))/deno"
      ],
      "metadata": {
        "execution": {
          "iopub.status.busy": "2022-09-04T15:27:13.177813Z",
          "iopub.execute_input": "2022-09-04T15:27:13.178199Z",
          "iopub.status.idle": "2022-09-04T15:27:13.189207Z",
          "shell.execute_reply.started": "2022-09-04T15:27:13.178165Z",
          "shell.execute_reply": "2022-09-04T15:27:13.187803Z"
        },
        "trusted": true,
        "id": "CXck3eurLuIR"
      },
      "execution_count": null,
      "outputs": []
    },
    {
      "cell_type": "markdown",
      "source": [
        "# # Inference Function"
      ],
      "metadata": {
        "id": "3ox2jH_1LuIS"
      }
    },
    {
      "cell_type": "code",
      "source": [
        "def Inference(Sur_Mean, Sur_Var,Nsur_Mean, Nsur_Var,x, p_sur):\n",
        "    gauss_Sur=Gaussian(Sur_Mean, Sur_Var, x)\n",
        "    gauss_Nsur = Gaussian(Nsur_Mean,Nsur_Var, x)\n",
        "    pS = p_sur*gauss_Sur\n",
        "    pNS = p_nsur*gauss_Nsur\n",
        "    if(pS > pNS):\n",
        "        return 1\n",
        "    return 0"
      ],
      "metadata": {
        "execution": {
          "iopub.status.busy": "2022-09-04T15:27:13.191018Z",
          "iopub.execute_input": "2022-09-04T15:27:13.191456Z",
          "iopub.status.idle": "2022-09-04T15:27:13.202777Z",
          "shell.execute_reply.started": "2022-09-04T15:27:13.191420Z",
          "shell.execute_reply": "2022-09-04T15:27:13.201778Z"
        },
        "trusted": true,
        "id": "r4WgPBpdLuIT"
      },
      "execution_count": null,
      "outputs": []
    },
    {
      "cell_type": "code",
      "source": [
        "y_pred2=[]\n",
        "for i in range(len(x_test)):\n",
        "    y_pred2.append(Inference(Sur_Mean, Sur_Var,Nsur_Mean, Nsur_Var,x_test[i], p_sur))"
      ],
      "metadata": {
        "execution": {
          "iopub.status.busy": "2022-09-04T15:27:13.204621Z",
          "iopub.execute_input": "2022-09-04T15:27:13.205032Z",
          "iopub.status.idle": "2022-09-04T15:27:13.222700Z",
          "shell.execute_reply.started": "2022-09-04T15:27:13.204998Z",
          "shell.execute_reply": "2022-09-04T15:27:13.221301Z"
        },
        "trusted": true,
        "id": "HRciJ2M2LuIT"
      },
      "execution_count": null,
      "outputs": []
    },
    {
      "cell_type": "code",
      "source": [
        "y_pred2"
      ],
      "metadata": {
        "execution": {
          "iopub.status.busy": "2022-09-04T15:27:13.224298Z",
          "iopub.execute_input": "2022-09-04T15:27:13.224906Z",
          "iopub.status.idle": "2022-09-04T15:27:13.238873Z",
          "shell.execute_reply.started": "2022-09-04T15:27:13.224869Z",
          "shell.execute_reply": "2022-09-04T15:27:13.237248Z"
        },
        "trusted": true,
        "id": "7BUow7k5LuIU",
        "colab": {
          "base_uri": "https://localhost:8080/"
        },
        "outputId": "48da6f3c-94b8-477c-91ce-ea4ccf883eef"
      },
      "execution_count": null,
      "outputs": [
        {
          "output_type": "execute_result",
          "data": {
            "text/plain": [
              "[0,\n",
              " 0,\n",
              " 0,\n",
              " 0,\n",
              " 0,\n",
              " 0,\n",
              " 1,\n",
              " 0,\n",
              " 0,\n",
              " 0,\n",
              " 0,\n",
              " 0,\n",
              " 0,\n",
              " 1,\n",
              " 0,\n",
              " 0,\n",
              " 1,\n",
              " 0,\n",
              " 0,\n",
              " 0,\n",
              " 0,\n",
              " 1,\n",
              " 0,\n",
              " 1,\n",
              " 0,\n",
              " 0,\n",
              " 0,\n",
              " 0,\n",
              " 1,\n",
              " 0,\n",
              " 0,\n",
              " 1,\n",
              " 0,\n",
              " 1,\n",
              " 0,\n",
              " 0,\n",
              " 0,\n",
              " 0,\n",
              " 1,\n",
              " 0,\n",
              " 1,\n",
              " 1,\n",
              " 1,\n",
              " 0,\n",
              " 0,\n",
              " 1,\n",
              " 1,\n",
              " 0,\n",
              " 0,\n",
              " 0,\n",
              " 0,\n",
              " 1,\n",
              " 1,\n",
              " 1,\n",
              " 0,\n",
              " 1,\n",
              " 1,\n",
              " 1,\n",
              " 1,\n",
              " 1,\n",
              " 0,\n",
              " 0,\n",
              " 1,\n",
              " 1,\n",
              " 0,\n",
              " 0,\n",
              " 1,\n",
              " 1,\n",
              " 1,\n",
              " 0,\n",
              " 0,\n",
              " 0,\n",
              " 1,\n",
              " 1,\n",
              " 0,\n",
              " 0,\n",
              " 1,\n",
              " 0,\n",
              " 0,\n",
              " 1,\n",
              " 0,\n",
              " 0,\n",
              " 0,\n",
              " 0,\n",
              " 1,\n",
              " 0,\n",
              " 0,\n",
              " 0,\n",
              " 1,\n",
              " 1,\n",
              " 1,\n",
              " 0,\n",
              " 1,\n",
              " 0,\n",
              " 0,\n",
              " 0,\n",
              " 0,\n",
              " 0,\n",
              " 0,\n",
              " 0,\n",
              " 0,\n",
              " 0,\n",
              " 0,\n",
              " 0,\n",
              " 1,\n",
              " 0,\n",
              " 1,\n",
              " 0,\n",
              " 0,\n",
              " 0,\n",
              " 0,\n",
              " 0,\n",
              " 0,\n",
              " 0,\n",
              " 1,\n",
              " 0,\n",
              " 1,\n",
              " 1,\n",
              " 0,\n",
              " 1,\n",
              " 0,\n",
              " 0,\n",
              " 0,\n",
              " 0,\n",
              " 0,\n",
              " 1,\n",
              " 0,\n",
              " 0,\n",
              " 0,\n",
              " 1,\n",
              " 0,\n",
              " 1,\n",
              " 0,\n",
              " 1,\n",
              " 1,\n",
              " 0,\n",
              " 1,\n",
              " 1,\n",
              " 0,\n",
              " 1,\n",
              " 0,\n",
              " 1,\n",
              " 0,\n",
              " 0,\n",
              " 0,\n",
              " 0,\n",
              " 0,\n",
              " 0,\n",
              " 1,\n",
              " 1,\n",
              " 1,\n",
              " 0,\n",
              " 1,\n",
              " 0,\n",
              " 0,\n",
              " 0]"
            ]
          },
          "metadata": {},
          "execution_count": 65
        }
      ]
    },
    {
      "cell_type": "code",
      "source": [
        "y_pred2=np.array(y_pred2,dtype='int64')\n",
        "y_pred2.shape"
      ],
      "metadata": {
        "execution": {
          "iopub.status.busy": "2022-09-04T15:27:13.240392Z",
          "iopub.execute_input": "2022-09-04T15:27:13.241489Z",
          "iopub.status.idle": "2022-09-04T15:27:13.254675Z",
          "shell.execute_reply.started": "2022-09-04T15:27:13.241456Z",
          "shell.execute_reply": "2022-09-04T15:27:13.253510Z"
        },
        "trusted": true,
        "id": "nvAq0smjLuIV",
        "colab": {
          "base_uri": "https://localhost:8080/"
        },
        "outputId": "f824f8f6-bae7-4f09-d9af-c0550eea33d1"
      },
      "execution_count": null,
      "outputs": [
        {
          "output_type": "execute_result",
          "data": {
            "text/plain": [
              "(156,)"
            ]
          },
          "metadata": {},
          "execution_count": 66
        }
      ]
    },
    {
      "cell_type": "code",
      "source": [
        "y_pred2=y_pred2.reshape(156,1).T\n",
        "y_pred2.shape\n"
      ],
      "metadata": {
        "execution": {
          "iopub.status.busy": "2022-09-04T15:27:13.256559Z",
          "iopub.execute_input": "2022-09-04T15:27:13.256907Z",
          "iopub.status.idle": "2022-09-04T15:27:13.268051Z",
          "shell.execute_reply.started": "2022-09-04T15:27:13.256877Z",
          "shell.execute_reply": "2022-09-04T15:27:13.266793Z"
        },
        "trusted": true,
        "id": "JEGP5yV9LuIW",
        "colab": {
          "base_uri": "https://localhost:8080/"
        },
        "outputId": "0fa8af23-5908-4968-af21-12cc7b362bd9"
      },
      "execution_count": null,
      "outputs": [
        {
          "output_type": "execute_result",
          "data": {
            "text/plain": [
              "(1, 156)"
            ]
          },
          "metadata": {},
          "execution_count": 67
        }
      ]
    },
    {
      "cell_type": "code",
      "source": [
        "y_pred2"
      ],
      "metadata": {
        "execution": {
          "iopub.status.busy": "2022-09-04T15:27:13.269830Z",
          "iopub.execute_input": "2022-09-04T15:27:13.270505Z",
          "iopub.status.idle": "2022-09-04T15:27:13.282246Z",
          "shell.execute_reply.started": "2022-09-04T15:27:13.270467Z",
          "shell.execute_reply": "2022-09-04T15:27:13.280964Z"
        },
        "trusted": true,
        "id": "OuB2CcKbLuIX",
        "colab": {
          "base_uri": "https://localhost:8080/"
        },
        "outputId": "a93007bb-0700-48ca-a018-0b9c155b65e2"
      },
      "execution_count": null,
      "outputs": [
        {
          "output_type": "execute_result",
          "data": {
            "text/plain": [
              "array([[0, 0, 0, 0, 0, 0, 1, 0, 0, 0, 0, 0, 0, 1, 0, 0, 1, 0, 0, 0, 0, 1,\n",
              "        0, 1, 0, 0, 0, 0, 1, 0, 0, 1, 0, 1, 0, 0, 0, 0, 1, 0, 1, 1, 1, 0,\n",
              "        0, 1, 1, 0, 0, 0, 0, 1, 1, 1, 0, 1, 1, 1, 1, 1, 0, 0, 1, 1, 0, 0,\n",
              "        1, 1, 1, 0, 0, 0, 1, 1, 0, 0, 1, 0, 0, 1, 0, 0, 0, 0, 1, 0, 0, 0,\n",
              "        1, 1, 1, 0, 1, 0, 0, 0, 0, 0, 0, 0, 0, 0, 0, 0, 1, 0, 1, 0, 0, 0,\n",
              "        0, 0, 0, 0, 1, 0, 1, 1, 0, 1, 0, 0, 0, 0, 0, 1, 0, 0, 0, 1, 0, 1,\n",
              "        0, 1, 1, 0, 1, 1, 0, 1, 0, 1, 0, 0, 0, 0, 0, 0, 1, 1, 1, 0, 1, 0,\n",
              "        0, 0]])"
            ]
          },
          "metadata": {},
          "execution_count": 68
        }
      ]
    },
    {
      "cell_type": "code",
      "source": [
        "y_test=y_test.T\n",
        "y_test"
      ],
      "metadata": {
        "execution": {
          "iopub.status.busy": "2022-09-04T15:27:13.283644Z",
          "iopub.execute_input": "2022-09-04T15:27:13.284182Z",
          "iopub.status.idle": "2022-09-04T15:27:13.294856Z",
          "shell.execute_reply.started": "2022-09-04T15:27:13.284147Z",
          "shell.execute_reply": "2022-09-04T15:27:13.293601Z"
        },
        "trusted": true,
        "id": "TaUOavYfLuIX",
        "colab": {
          "base_uri": "https://localhost:8080/"
        },
        "outputId": "fdecfdae-0e9a-4c04-94a7-2b394eaf8183"
      },
      "execution_count": null,
      "outputs": [
        {
          "output_type": "execute_result",
          "data": {
            "text/plain": [
              "array([[0, 0, 0, 1, 1, 0, 1, 0, 1, 0, 0, 0, 0, 1, 0, 1, 1, 0, 0, 0, 0, 0,\n",
              "        0, 1, 0, 0, 0, 0, 1, 0, 0, 1, 0, 1, 0, 1, 0, 1, 0, 0, 0, 0, 1, 0,\n",
              "        0, 1, 0, 0, 0, 0, 1, 1, 0, 1, 0, 1, 0, 1, 1, 0, 0, 0, 1, 0, 0, 1,\n",
              "        0, 0, 1, 0, 0, 0, 1, 1, 1, 0, 1, 1, 0, 1, 0, 1, 0, 0, 1, 0, 1, 0,\n",
              "        1, 1, 0, 0, 1, 0, 1, 0, 0, 0, 0, 0, 0, 0, 0, 0, 1, 1, 1, 1, 0, 0,\n",
              "        0, 0, 0, 0, 1, 0, 1, 0, 0, 1, 1, 0, 0, 0, 0, 0, 1, 0, 0, 1, 1, 1,\n",
              "        0, 1, 1, 0, 1, 1, 0, 0, 0, 1, 0, 0, 0, 1, 0, 0, 0, 1, 1, 1, 1, 0,\n",
              "        0, 0]])"
            ]
          },
          "metadata": {},
          "execution_count": 69
        }
      ]
    },
    {
      "cell_type": "code",
      "source": [
        "TP2=np.sum((y_pred2==1)& (y_test==1))\n",
        "FP2=np.sum((y_pred2==1)& (y_test==0))\n",
        "TN2=np.sum((y_pred2==0)& (y_test==0))\n",
        "FN2=np.sum((y_pred2==0)& (y_test==1))\n",
        "R2=TP2/(TP2+FN2)\n",
        "R2"
      ],
      "metadata": {
        "execution": {
          "iopub.status.busy": "2022-09-04T15:27:13.296068Z",
          "iopub.execute_input": "2022-09-04T15:27:13.296914Z",
          "iopub.status.idle": "2022-09-04T15:27:13.309746Z",
          "shell.execute_reply.started": "2022-09-04T15:27:13.296865Z",
          "shell.execute_reply": "2022-09-04T15:27:13.308486Z"
        },
        "trusted": true,
        "id": "TO87MdpFLuIY",
        "colab": {
          "base_uri": "https://localhost:8080/"
        },
        "outputId": "ac5fbe54-c7e4-4ed4-fb58-4db12df3de43"
      },
      "execution_count": null,
      "outputs": [
        {
          "output_type": "execute_result",
          "data": {
            "text/plain": [
              "0.6610169491525424"
            ]
          },
          "metadata": {},
          "execution_count": 70
        }
      ]
    },
    {
      "cell_type": "code",
      "source": [
        "P2=TP2/(TP2+FP2)\n",
        "P2"
      ],
      "metadata": {
        "execution": {
          "iopub.status.busy": "2022-09-04T15:27:13.311495Z",
          "iopub.execute_input": "2022-09-04T15:27:13.311973Z",
          "iopub.status.idle": "2022-09-04T15:27:13.324100Z",
          "shell.execute_reply.started": "2022-09-04T15:27:13.311931Z",
          "shell.execute_reply": "2022-09-04T15:27:13.323174Z"
        },
        "trusted": true,
        "id": "_DYo8-DbLuIZ",
        "colab": {
          "base_uri": "https://localhost:8080/"
        },
        "outputId": "87adbd23-e5c7-4c01-c61c-aff0642fc2b6"
      },
      "execution_count": null,
      "outputs": [
        {
          "output_type": "execute_result",
          "data": {
            "text/plain": [
              "0.7090909090909091"
            ]
          },
          "metadata": {},
          "execution_count": 71
        }
      ]
    },
    {
      "cell_type": "code",
      "source": [
        "#f1 score calculation to validate the model\n",
        "f1_s2=2*(R2*P2)/(R2+P2)\n",
        "print(\"The F1 score is \",f1_s2*100)\n",
        "print(\"Error % is\",(1-f1_s2)*100)"
      ],
      "metadata": {
        "execution": {
          "iopub.status.busy": "2022-09-04T15:27:13.325996Z",
          "iopub.execute_input": "2022-09-04T15:27:13.326721Z",
          "iopub.status.idle": "2022-09-04T15:27:13.335613Z",
          "shell.execute_reply.started": "2022-09-04T15:27:13.326678Z",
          "shell.execute_reply": "2022-09-04T15:27:13.334451Z"
        },
        "trusted": true,
        "id": "d51V2ahILuIh",
        "colab": {
          "base_uri": "https://localhost:8080/"
        },
        "outputId": "0e87edb0-fe70-4db4-efa9-221d27fd0511"
      },
      "execution_count": null,
      "outputs": [
        {
          "output_type": "stream",
          "name": "stdout",
          "text": [
            "The F1 score is  68.42105263157895\n",
            "Error % is 31.57894736842105\n"
          ]
        }
      ]
    }
  ]
}